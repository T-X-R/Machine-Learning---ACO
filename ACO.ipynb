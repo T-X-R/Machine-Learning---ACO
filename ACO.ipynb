{
 "cells": [
  {
   "cell_type": "code",
   "execution_count": 2,
   "id": "4464dfc3",
   "metadata": {},
   "outputs": [],
   "source": [
    "using Random\n",
    "using Printf\n",
    "using Dates"
   ]
  },
  {
   "cell_type": "code",
   "execution_count": 3,
   "id": "39299917",
   "metadata": {},
   "outputs": [
    {
     "data": {
      "text/plain": [
       "MSA_to_TSP (generic function with 1 method)"
      ]
     },
     "execution_count": 3,
     "metadata": {},
     "output_type": "execute_result"
    }
   ],
   "source": [
    "# convert the msa to tsp graph. Takes sequences and input and returns the distance matrix\n",
    "\n",
    "function MSA_to_TSP(sequences)\n",
    "  node = []\n",
    "  for i in 1:length(sequences)\n",
    "    push!(node,sequences[i])\n",
    "  end\n",
    "\n",
    "  graph = Array{Float64, 2}(undef, length(node), length(node))\n",
    "  max_score = 0\n",
    "  for i in 1:length(node)\n",
    "    graph[i,i] = 0\n",
    "    for j in i+1:length(node)\n",
    "      score, align1, align2 = produce_global_alignment(node[i],node[j]) \n",
    "      graph[i,j] = score\n",
    "      graph[j,i] = score\n",
    "      if max_score < score \n",
    "        max_score = score\n",
    "      end\n",
    "    end\n",
    "  end\n",
    "    \n",
    "  # convert score to distance, more the score lesser the distance\n",
    "  for i in 1:length(node)\n",
    "    for j in i+1:length(node)\n",
    "      graph[i,j] = max_score - graph[i,j] + 1\n",
    "      graph[j,i] = max_score - graph[j,i] + 1\n",
    "    end\n",
    "  end    \n",
    "  return graph\n",
    "end"
   ]
  },
  {
   "cell_type": "code",
   "execution_count": 4,
   "id": "1e28e3ee",
   "metadata": {},
   "outputs": [
    {
     "data": {
      "text/plain": [
       "produce_global_alignment (generic function with 4 methods)"
      ]
     },
     "execution_count": 4,
     "metadata": {},
     "output_type": "execute_result"
    }
   ],
   "source": [
    "# perform the needleman-wunsch on two sequences v and w, returns the score and algined sequences\n",
    "\n",
    "function produce_global_alignment(v, w, match_penalty=1, mismatch_penalty=-1, deletion_penalty=-1)\n",
    "    rows = length(v)+1\n",
    "    cols = length(w)+1\n",
    "    dp = zeros(Float64, rows, cols)\n",
    "    direction = zeros(Float64, rows, cols)\n",
    "    for i in 1:(rows)\n",
    "        dp[i,1] = (i-1) * deletion_penalty\n",
    "        direction[i,1] = 2\n",
    "    end\n",
    "    for i in 1:(cols)\n",
    "        dp[1,i] = (i-1) * deletion_penalty\n",
    "        direction[1,i] = 3\n",
    "    end\n",
    "    for i in 2:(rows)\n",
    "        for j in 2:(cols)\n",
    "            if v[i-1] == w[j-1]\n",
    "                ms = dp[i-1,j-1] + match_penalty\n",
    "            else\n",
    "                ms = dp[i-1,j-1] + mismatch_penalty\n",
    "            end\n",
    "            score = [ms, dp[i-1,j] + deletion_penalty, dp[i,j-1] + deletion_penalty]\n",
    "            max_element = findmax(score)\n",
    "            dp[i,j] = max_element[1]\n",
    "            direction[i,j] = max_element[2]\n",
    "        end\n",
    "    end\n",
    "    i = rows\n",
    "    j = cols\n",
    "    aligned_v = []\n",
    "    aligned_w = []\n",
    "    while(i > 1 || j > 1)\n",
    "        dir = direction[i,j]\n",
    "        if dir == 1\n",
    "            i = i-1\n",
    "            j = j-1\n",
    "            push!(aligned_v, v[i])\n",
    "            push!(aligned_w, w[j])\n",
    "        end\n",
    "        if dir == 2\n",
    "            i=i-1\n",
    "            push!(aligned_v, v[i])\n",
    "            push!(aligned_w, \"-\")\n",
    "        end\n",
    "        if dir == 3\n",
    "            j = j-1\n",
    "            push!(aligned_v, \"-\")\n",
    "            push!(aligned_w, w[j])\n",
    "        end\n",
    "    end\n",
    "    return (dp[rows,cols], join(reverse(aligned_v)), join(reverse(aligned_w)))\n",
    "end"
   ]
  },
  {
   "cell_type": "code",
   "execution_count": 5,
   "id": "62fb946d",
   "metadata": {},
   "outputs": [
    {
     "data": {
      "text/plain": [
       "create_pheror_matrix (generic function with 1 method)"
      ]
     },
     "execution_count": 5,
     "metadata": {},
     "output_type": "execute_result"
    }
   ],
   "source": [
    "# returns the ant colony with cities initialized to each ant\n",
    "\n",
    "function create_colony(num_ants, num_nodes)\n",
    "    colony = []\n",
    "    for i in 1 : num_ants\n",
    "       push!(colony, Dict(\"path\"=>[rand(1:num_nodes)], \"distance\" => 0))\n",
    "    end\n",
    "    return colony\n",
    "end\n",
    "\n",
    "# create the pheror matrix\n",
    "function create_pheror_matrix(num_nodes)\n",
    "    pheromone = zeros(Float64, num_nodes, num_nodes)\n",
    "    for i in 1: num_nodes\n",
    "        for j in 1: num_nodes\n",
    "            pheromone[i,j] = 1/num_nodes\n",
    "        end\n",
    "    end\n",
    "    return pheromone\n",
    "end"
   ]
  },
  {
   "cell_type": "code",
   "execution_count": 6,
   "id": "3926b3d1",
   "metadata": {},
   "outputs": [
    {
     "data": {
      "text/plain": [
       "calculate_proba (generic function with 1 method)"
      ]
     },
     "execution_count": 6,
     "metadata": {},
     "output_type": "execute_result"
    }
   ],
   "source": [
    "# intialize the probability matrix\n",
    "\n",
    "function calculate_proba(num_nodes, pheromone, distance_matrix, alpha, beta)\n",
    "    probability = zeros(Float64, num_nodes, num_nodes)\n",
    "    for i in 1: num_nodes\n",
    "        for j in 1: num_nodes\n",
    "            probability[i,j] = (pheromone[i,j]^alpha) * (distance_matrix[i,j]^-beta)\n",
    "            probability[j,i] = probability[i,j]\n",
    "        end\n",
    "    end\n",
    "    return probability\n",
    "end"
   ]
  },
  {
   "cell_type": "code",
   "execution_count": 7,
   "id": "032b1714",
   "metadata": {},
   "outputs": [
    {
     "data": {
      "text/plain": [
       "calculate_proba_ant (generic function with 1 method)"
      ]
     },
     "execution_count": 7,
     "metadata": {},
     "output_type": "execute_result"
    }
   ],
   "source": [
    "# calculate probability of each ant going to all other nodes from current node\n",
    "\n",
    "function calculate_proba_ant(pheromone, distance_matrix, unvisited_nodes, current_node, proba, alpha, beta)\n",
    "  sigma = 0.0\n",
    "  for unvisited_node in unvisited_nodes\n",
    "    sigma += (pheromone[current_node,unvisited_node]^alpha) * (distance_matrix[current_node,unvisited_node]^-beta)\n",
    "  end\n",
    "  proba_ant = proba[current_node,:]/sigma\n",
    "  return proba_ant\n",
    "end"
   ]
  },
  {
   "cell_type": "code",
   "execution_count": 8,
   "id": "e8e6d9ab",
   "metadata": {},
   "outputs": [
    {
     "data": {
      "text/plain": [
       "find_best_path (generic function with 1 method)"
      ]
     },
     "execution_count": 8,
     "metadata": {},
     "output_type": "execute_result"
    }
   ],
   "source": [
    "# finds the best path out of all ants\n",
    "\n",
    "function find_best_path(n_ants, colony)\n",
    "  bpath = []\n",
    "  best_distance = Inf32\n",
    "  typeof(best_distance)\n",
    "  idx_best = 0\n",
    "  for i=1: n_ants\n",
    "    if colony[i][\"distance\"] < best_distance\n",
    "      best_distance = colony[i][\"distance\"]\n",
    "      bpath = colony[i][\"path\"]\n",
    "      idx_best = i\n",
    "    end\n",
    "  end\n",
    "  best_path = Dict(\"path\"=> bpath, \"distance\"=> best_distance, \"ant\"=> idx_best)\n",
    "  return best_path\n",
    "end"
   ]
  },
  {
   "cell_type": "code",
   "execution_count": 9,
   "id": "24dd94de",
   "metadata": {},
   "outputs": [
    {
     "data": {
      "text/plain": [
       "update_pheror_matrix (generic function with 1 method)"
      ]
     },
     "execution_count": 9,
     "metadata": {},
     "output_type": "execute_result"
    }
   ],
   "source": [
    "# updates the pheror matrix\n",
    "\n",
    "function update_pheror_matrix(num_nodes, n_ants, pheromone, distance_matrix, colony, Q, decay)\n",
    "  depositpher = 0.0\n",
    "  for i=1: n_ants\n",
    "    ant = i\n",
    "    for j= 1:(length(colony[ant][\"path\"])-1)\n",
    "      src = colony[ant][\"path\"][j]\n",
    "      dest = colony[ant][\"path\"][j+1]\n",
    "      pheromone[src,dest] += Q/colony[i][\"distance\"]\n",
    "    end\n",
    "    depositpher += Q/colony[i][\"distance\"]\n",
    "    for i= 1:num_nodes\n",
    "      for j= 1:num_nodes\n",
    "        pheromone[i,j] = (1-decay)*pheromone[i,j]*depositpher\n",
    "        pheromone[j,i] = pheromone[i,j]\n",
    "      end\n",
    "    end\n",
    "  end\n",
    "  return pheromone\n",
    "end"
   ]
  },
  {
   "cell_type": "code",
   "execution_count": 10,
   "id": "f1d543e8",
   "metadata": {},
   "outputs": [
    {
     "data": {
      "text/plain": [
       "calculateDist_ant (generic function with 1 method)"
      ]
     },
     "execution_count": 10,
     "metadata": {},
     "output_type": "execute_result"
    }
   ],
   "source": [
    "# calculate distance for one ant\n",
    "\n",
    "function calculateDist_ant(ant, colony, distmatrix)\n",
    "  dist = 0\n",
    "  path = colony[ant][\"path\"]\n",
    "  for i= 1:length(path)-1\n",
    "    dist += distmatrix[path[i],path[i+1]]\n",
    "  end\n",
    "  return dist\n",
    "end"
   ]
  },
  {
   "cell_type": "code",
   "execution_count": 11,
   "id": "b9c6a9a2",
   "metadata": {},
   "outputs": [
    {
     "data": {
      "text/plain": [
       "traverse (generic function with 1 method)"
      ]
     },
     "execution_count": 11,
     "metadata": {},
     "output_type": "execute_result"
    }
   ],
   "source": [
    "# run each ant from source to destination\n",
    "\n",
    "function traverse(ant, num_nodes, colony, pheromone, distance_matrix, proba, alpha, beta)\n",
    "    unvisited = collect(1:num_nodes)\n",
    "    current = colony[ant][\"path\"][1]\n",
    "    deleteat!(unvisited, findfirst(isequal(current), unvisited))\n",
    "    for j in 1: num_nodes-1\n",
    "        if length(unvisited) > 1\n",
    "            ant_probability = calculate_proba_ant(pheromone, distance_matrix, unvisited, current, proba, alpha, beta)\n",
    "            prob = map((x) -> ant_probability[x] , unvisited)\n",
    "            current = unvisited[findmax(prob)[2]]\n",
    "            deleteat!(unvisited, findfirst(isequal(current), unvisited))\n",
    "            push!(colony[ant][\"path\"], current)       \n",
    "        else\n",
    "            push!(colony[ant][\"path\"], unvisited[1])\n",
    "        end\n",
    "    end\n",
    "    colony[ant][\"distance\"] = calculateDist_ant(ant, colony, distance_matrix)\n",
    "end"
   ]
  },
  {
   "cell_type": "code",
   "execution_count": 12,
   "id": "c0bd423a",
   "metadata": {},
   "outputs": [
    {
     "data": {
      "text/plain": [
       "aco_main (generic function with 1 method)"
      ]
     },
     "execution_count": 12,
     "metadata": {},
     "output_type": "execute_result"
    }
   ],
   "source": [
    "# driver function for aco\n",
    "\n",
    "function aco_main(num_ants, num_nodes, distance_matrix, iterations, Q, decay, alpha, beta)\n",
    "    pheromone = create_pheror_matrix(num_nodes)\n",
    "    gbpath = Dict()\n",
    "    for i= 1: iterations\n",
    "        colony = create_colony(num_ants, num_nodes)\n",
    "        probability = calculate_proba(num_nodes, pheromone, distance_matrix, alpha, beta)\n",
    "        for ant in 1: num_ants\n",
    "            traverse(ant, num_nodes, colony, pheromone, distance_matrix, probability, alpha, beta)\n",
    "        end\n",
    "        # complete update_pheromone_matrix\n",
    "        pheromone = update_pheror_matrix(num_nodes, num_ants, pheromone, distance_matrix, colony, Q, decay)\n",
    "        #complete find best path fucntion\n",
    "        best_path = find_best_path(num_ants, colony)\n",
    "        \n",
    "        bpath = best_path\n",
    "        if i == 1\n",
    "            gbpath = bpath\n",
    "        else\n",
    "            if bpath[\"distance\"] < gbpath[\"distance\"]\n",
    "                gbpath = bpath\n",
    "            end\n",
    "        end\n",
    "    end \n",
    "    # return the best path\n",
    "    return gbpath[\"path\"]\n",
    "end"
   ]
  },
  {
   "cell_type": "code",
   "execution_count": 13,
   "id": "00a79bc7",
   "metadata": {},
   "outputs": [
    {
     "data": {
      "text/plain": [
       "find_gap_indices (generic function with 1 method)"
      ]
     },
     "execution_count": 13,
     "metadata": {},
     "output_type": "execute_result"
    }
   ],
   "source": [
    "function find_gap_indices(A, alignedA)\n",
    "    i = 1\n",
    "    j = 1\n",
    "    pointer = []\n",
    "    while j <= length(alignedA)\n",
    "        if alignedA[j] == '-' && (i > length(A) || A[i] != '-')\n",
    "            push!(pointer, j)\n",
    "            j += 1\n",
    "        else\n",
    "            j += 1\n",
    "            i += 1\n",
    "        end\n",
    "    end\n",
    "    return pointer\n",
    "end"
   ]
  },
  {
   "cell_type": "code",
   "execution_count": 14,
   "id": "c771aee5",
   "metadata": {},
   "outputs": [
    {
     "data": {
      "text/plain": [
       "insert_gaps (generic function with 1 method)"
      ]
     },
     "execution_count": 14,
     "metadata": {},
     "output_type": "execute_result"
    }
   ],
   "source": [
    "function insert_gaps(S,gap_indices_for_A)\n",
    "    copy_of_S = S\n",
    "    if length(gap_indices_for_A) > 0 && length(gap_indices_for_A) > 0\n",
    "        gap_indices_for_A = sort(gap_indices_for_A)\n",
    "        for i in gap_indices_for_A\n",
    "            copy_of_S = string(string(copy_of_S[1:i-1],'-'),copy_of_S[i:end])\n",
    "        end\n",
    "    end\n",
    "    return copy_of_S\n",
    "end"
   ]
  },
  {
   "cell_type": "code",
   "execution_count": 15,
   "id": "b8cc420e",
   "metadata": {},
   "outputs": [
    {
     "data": {
      "text/plain": [
       "align_output_sequences (generic function with 1 method)"
      ]
     },
     "execution_count": 15,
     "metadata": {},
     "output_type": "execute_result"
    }
   ],
   "source": [
    "# this function takes two params: sequences is the original array of input sequences, order is the array output of tsp algorithm of the order of sequences\n",
    "# notice that the index in both the params are relative to each other\n",
    "\n",
    "function align_output_sequences(sequences, order) \n",
    "    ordered_sequences = Array{String,1}(undef,0)\n",
    "    for i=1:length(order)\n",
    "        push!(ordered_sequences,sequences[order[i]])\n",
    "    end\n",
    "    aligned_sequences = Array{String,1}(undef,0)\n",
    "    for i=1:length(ordered_sequences)\n",
    "        push!(aligned_sequences,ordered_sequences[i])\n",
    "    end\n",
    "    for i=1:length(aligned_sequences)-1\n",
    "        A = aligned_sequences[i]\n",
    "        B = aligned_sequences[i+1]\n",
    "        score, alignedA, alignedB = produce_global_alignment(A,B)\n",
    "        gap_indices_for_A = find_gap_indices(A, alignedA)\n",
    "        # go to all predecessors of A and insert the gaps at same place\n",
    "        for j = 1:i-1\n",
    "            S = aligned_sequences[j]\n",
    "            newly_alinged_S = insert_gaps(S,gap_indices_for_A)\n",
    "            aligned_sequences[j] = newly_alinged_S\n",
    "        end\n",
    "        aligned_sequences[i] = alignedA\n",
    "        aligned_sequences[i+1] = alignedB\n",
    "    end  \n",
    "    ordered_aligned_sequences = Array{String,1}(undef,length(order))\n",
    "    for i=1:length(order)\n",
    "        ordered_aligned_sequences[order[i]] = aligned_sequences[i]\n",
    "    end\n",
    "    return ordered_aligned_sequences\n",
    "end"
   ]
  },
  {
   "cell_type": "code",
   "execution_count": 16,
   "id": "5803d859",
   "metadata": {},
   "outputs": [
    {
     "data": {
      "text/plain": [
       "calc_sum_pair (generic function with 1 method)"
      ]
     },
     "execution_count": 16,
     "metadata": {},
     "output_type": "execute_result"
    }
   ],
   "source": [
    "# calculate the final score\n",
    "\n",
    "function calc_sum_pair(sequences) \n",
    "    t = length(sequences)\n",
    "    k = length(sequences[1])\n",
    "    score = 0\n",
    "    for i=1:t\n",
    "        A = sequences[i]\n",
    "        for j=i+1:t\n",
    "            B = sequences[j]\n",
    "            for idx = 1:k\n",
    "                if A[idx] == B[idx] && A[idx] != '-'\n",
    "                    score += 1\n",
    "                end\n",
    "            end\n",
    "        end\n",
    "    end\n",
    "    return score\n",
    "end"
   ]
  },
  {
   "cell_type": "code",
   "execution_count": 17,
   "id": "740d25ec",
   "metadata": {},
   "outputs": [
    {
     "data": {
      "text/plain": [
       "calc_sum_pair_include_gap_penalty (generic function with 1 method)"
      ]
     },
     "execution_count": 17,
     "metadata": {},
     "output_type": "execute_result"
    }
   ],
   "source": [
    "# calculate the final score to include gap penalty\n",
    "\n",
    "function calc_sum_pair_include_gap_penalty(sequences) \n",
    "    t = length(sequences)\n",
    "    k = length(sequences[1])\n",
    "    score = 0\n",
    "    for i=1:t\n",
    "        A = sequences[i]\n",
    "        for j=i+1:t\n",
    "            B = sequences[j]\n",
    "            for idx = 1:k\n",
    "                # Add 1 for match\n",
    "                if A[idx] == B[idx] && A[idx] != '-'\n",
    "                    score += 1\n",
    "                # subtract 1 for mismatch\n",
    "                elseif A[idx] != B[idx] && A[idx] != '-' && B[idx] != '-'\n",
    "                    score -= 1\n",
    "                # subtract 1 for gap\n",
    "                elseif A[idx] == '-' ||  B[idx] == '-' \n",
    "                    score -= 1\n",
    "                end\n",
    "            end\n",
    "        end\n",
    "    end\n",
    "    return score\n",
    "end"
   ]
  },
  {
   "cell_type": "code",
   "execution_count": 18,
   "id": "d682df9c",
   "metadata": {},
   "outputs": [
    {
     "data": {
      "text/plain": [
       "get_sequences_from_file (generic function with 1 method)"
      ]
     },
     "execution_count": 18,
     "metadata": {},
     "output_type": "execute_result"
    }
   ],
   "source": [
    "# get sequences from the input file\n",
    "\n",
    "function get_sequences_from_file(file_name)\n",
    "    sequences = []\n",
    "    flag_first_arrow = true\n",
    "    open(file_name) do f\n",
    "        sequence = \"\"\n",
    "        for line in eachline(f)\n",
    "            if startswith(line, '>') \n",
    "                if flag_first_arrow\n",
    "                    flag_first_arrow = false\n",
    "                    continue\n",
    "                end\n",
    "                push!(sequences, sequence)\n",
    "                sequence = \"\"\n",
    "            else\n",
    "                sequence *= line\n",
    "            end\n",
    "        end\n",
    "        if length(sequence) > 0\n",
    "            push!(sequences, sequence)\n",
    "        end\n",
    "    end\n",
    "    return sequences\n",
    "end"
   ]
  },
  {
   "cell_type": "code",
   "execution_count": 19,
   "id": "af248353",
   "metadata": {},
   "outputs": [
    {
     "data": {
      "text/plain": [
       "write_to_file (generic function with 1 method)"
      ]
     },
     "execution_count": 19,
     "metadata": {},
     "output_type": "execute_result"
    }
   ],
   "source": [
    "# write output to the file\n",
    "\n",
    "function write_to_file(output_filename, aligned_sequences)\n",
    "    touch(output_filename)\n",
    "    f = open(output_filename, \"w\") \n",
    "    for i=1:length(aligned_sequences)\n",
    "        seq_num = string(\">s\",i)\n",
    "        write(f,string(seq_num,\"\\n\"))\n",
    "        write(f,aligned_sequences[i])\n",
    "        write(f,\"\\n\")\n",
    "    end\n",
    "    close(f) \n",
    "end"
   ]
  },
  {
   "cell_type": "code",
   "execution_count": 22,
   "id": "d8f51282",
   "metadata": {},
   "outputs": [
    {
     "data": {
      "text/plain": [
       "driver (generic function with 3 methods)"
      ]
     },
     "execution_count": 22,
     "metadata": {},
     "output_type": "execute_result"
    }
   ],
   "source": [
    "# this is the driver function which take the fasta file as input and writes the output to the output.txt file.\n",
    "# the default input to this function is input.fasta which should be present in the same folder as this code.\n",
    "\n",
    "function driver(filename=\"dataset.txt\",output_filename = \"output1.txt\")\n",
    "    # get the sequences from input file\n",
    "    input_sequences = get_sequences_from_file(filename)\n",
    "    # convert the get input_sequences to TSP problem and get the distance_matrix for TSP\n",
    "    input_distance_matrix = MSA_to_TSP(input_sequences)\n",
    "    # configuration for ACO\n",
    "    num_sequences = length(input_sequences)\n",
    "    num_ants = maximum([100,5*num_sequences])\n",
    "    iterations = 50\n",
    "    Q = 0.6\n",
    "    decay = 0.6\n",
    "    alpha = 1\n",
    "    beta = 1\n",
    "    # run the ant colony optimization, get the order of node traversal\n",
    "    order_of_alignment = aco_main(num_ants,num_sequences,input_distance_matrix,iterations,Q,decay,alpha,beta)\n",
    "    # align output sequences in the order identifiedgi by above algorithm\n",
    "    aligned_sequences = align_output_sequences(input_sequences,order_of_alignment)\n",
    "    # get the score of the aligned_sequences\n",
    "    final_score = calc_sum_pair(aligned_sequences)\n",
    "    # save the output in fasta format in output1.txt\n",
    "    write_to_file(output_filename, aligned_sequences)\n",
    "    # print the aligned sequences\n",
    "    println(\"Score of aligned sequences = \",final_score)\n",
    "    println(\"The aligned sequences are saved in output file. Printing them here as well:\")\n",
    "    for i=1:length(aligned_sequences)\n",
    "        println(aligned_sequences[i])\n",
    "    end  \n",
    "    return final_score, aligned_sequences\n",
    "end"
   ]
  },
  {
   "cell_type": "code",
   "execution_count": null,
   "id": "ce83dddf",
   "metadata": {
    "scrolled": true
   },
   "outputs": [],
   "source": [
    "# driver()"
   ]
  },
  {
   "cell_type": "code",
   "execution_count": 24,
   "id": "2ee38fe9",
   "metadata": {},
   "outputs": [],
   "source": [
    "using Plots"
   ]
  },
  {
   "cell_type": "code",
   "execution_count": 25,
   "id": "6829aca2",
   "metadata": {},
   "outputs": [
    {
     "data": {
      "text/plain": [
       "generator (generic function with 1 method)"
      ]
     },
     "execution_count": 25,
     "metadata": {},
     "output_type": "execute_result"
    }
   ],
   "source": [
    "function generator(sequence_length, number_of_sequence)\n",
    "    seuqences = []\n",
    "    bases = [\"A\", \"C\", \"G\", \"T\"]\n",
    "    current_sequence = []\n",
    "    for i in 1:sequence_length\n",
    "        push!(current_sequence, bases[rand(1:4)])\n",
    "    end\n",
    "    push!(seuqences, join(current_sequence))\n",
    "    for i in 1:number_of_sequence-1\n",
    "        changes = rand(floor(0.3*sequence_length) : floor(0.6*sequence_length))\n",
    "        for t in 1: changes\n",
    "            location = rand(1:sequence_length)\n",
    "            current_sequence[location] = bases[rand(1:4)]\n",
    "        end\n",
    "        push!(seuqences, join(current_sequence))\n",
    "    end\n",
    "    return seuqences\n",
    "end"
   ]
  },
  {
   "cell_type": "code",
   "execution_count": 76,
   "id": "b58a8b83",
   "metadata": {},
   "outputs": [
    {
     "data": {
      "text/plain": [
       "score_ACO_vs_GA (generic function with 1 method)"
      ]
     },
     "execution_count": 76,
     "metadata": {},
     "output_type": "execute_result"
    }
   ],
   "source": [
    "function score_ACO_vs_GA()\n",
    "    scores = []\n",
    "    for i in 1:10\n",
    "        input_file = \"input\"*string(i)*\".fasta\"\n",
    "        output = \"score\"*string(i)*\".fasta\"\n",
    "        input_sequences = generator(50*i, 10)\n",
    "        write_to_file(input_file, input_sequences)\n",
    "        score, result = driver(input_file, output)\n",
    "        push!(scores, score)\n",
    "    end\n",
    "    return scores\n",
    "end"
   ]
  },
  {
   "cell_type": "code",
   "execution_count": 77,
   "id": "17a5f1f3",
   "metadata": {},
   "outputs": [
    {
     "name": "stdout",
     "output_type": "stream",
     "text": [
      "Score of aligned sequences = 1008\n",
      "The aligned sequences are saved in output file. Printing them here as well:\n",
      "GAC--TAG--C-CTAAACC-CTCCCTGGGCTA--A-GC-AATCTACTGCA--TCCTAC-CAAA\n",
      "TACT-TGGTTC---GATCCGC-C-CTGGGCTA--A-GCG-CTCTACTGCA-GT-CTAC-CAAT\n",
      "TAAT-TTCTTC---GATACGCACG--GGGCTA--ATT-G-CTCTACTGTA-GG-CT-CGCAAT\n",
      "TGAT-TTGTTC-G-G-TCCCCACGAAG--CTA--ATTGG--TATGCTGTA-GA-CA-CGCAAT\n",
      "CGAT-TT-TTCTG-GTTGCCT-CG--G-ACCA-TATTGG--TACGCGGAA-GG-CA-AACGAT\n",
      "CTCT-AT-TTCTGA-TTG--TG-GT-GTTCCAG-AATGGTTTAC-C-GAACGG--A-AACGGT\n",
      "C-CTCAT-TACAGA-TTG--TG-CT-CCTCCAGCAA-GCTTTAC-C-GAACGA--A-AACTTT\n",
      "C-CTCCG-TACAGA-TTT--TGA-T-CCTGAAGCAA-GCTTTGC-C-TCACGA--A-AACCTC\n",
      "C-CGCCC-TACA-ACACT--T-ACT-CGTGAAGCAA-GCTTTGC-C-TCACGA--A-AACCGC\n",
      "C-CGCGC-GACA-ACAAT--T-GCT-AGCAAAGTAT-GATTTGT-C-TCACCA--A-AAGTGG\n",
      "Score of aligned sequences = 2245\n",
      "The aligned sequences are saved in output file. Printing them here as well:\n",
      "-AA-AATGTGTCTGCGCA-GGCC--TCA-CGTACAAGG-G--CC-ACA-TC-GCT-AAGGCA-TCA-AGGGG-CCATCAC-CAG-ACAGAAAA-GT-TACTTAT--GATAC-CGCCTCGCTCT-\n",
      "GAA-TA-GAGTCTGCGCA-GGCCTATCA-C--ACTAGG-T--CA-ACT-TC-GCT-ACGGCG-TCA-AGGGG-CAACCAA-CAG-ACAGGCAA-GTGT-CCTAT--GATAC-TGTCTCGCCCT-\n",
      "GAA-GA-TAGTCCGAGTA-AGCCTATTG-C--CCTTGA-T--GAGATTATC-G---ACGGGGAT-A-AGAAG-CAA-CAAGCAG-ACAGGTGC-GGGT-CCTTT--TATAC-TGTTTCACCAT-\n",
      "GAA-GA-TAGTCCGTGTA-AGCCTATTG-C--CCTTGA-T--GCGAATAGC-G---ACGCGCAT-A-AGAAG-CAA-CAAGTAG-ACTGAT-A-AGGT-TATTTGCAAT-C-AGTTTCTCCAT-\n",
      "GAA-TA-TGGTCCTTGTA-AGCCT-CTGAC--CCCTGATTGGGCG-ACA---G---ACGCACCT-AGA-AAG-CAA-CAAGTAG-ACTGAT-A-AGGT-TACTTACAA-AC-TGATTCGCCCT-\n",
      "GTA-GA-TGTTCAGTGTA-AGCC-GCGGTC--CCCTGATTGAGTG-AC--G-GTTGAC-C-CC--AG--AGGCCAA-CACGTAC-CCTGAT-A-AGAT-TAATTACGA-AC-TGTTTCG-TCTG\n",
      "GCA-G-GTGCTCAATATA-A-CCCTCACTC--CCCGGAGTGAGTG-A--GG-GTCCAC-C-CC--AG--AAACTTA-CACAAACACC-GAT-G-CGAT-CAATTCCGA-AC-TGTTGCG-TCAC\n",
      "ACACGCG-G-TCCCTTTA-A-CCCT-AATC-TCTAGGATTGACTG---CGGCGT-CGC-C-CC--AG--AAAATTA-CACCATCACC-GAT-G-CGAT-CAATTCCG-GAC-CGTTACG-GCAC\n",
      "ACAAGCG-G-TGCATTTAGA--CCT-AATC-TCTAGCATTGAC-----C-ACGT-CG-GCGCCGCA--AAAAATTA-AACCATGTCC-GA--GCCG-CCCAAAT-CGGGACAC-TTACG-GCAC\n",
      "AAAAGC--GTTACAGTT--ATTTCT-AA-CCTCTAGCATTGA-----TC-ACGT-AG-GCTCC-C-CCATAAATGA-AGCCGTGTCC-GA--GCTG-ACCAAAT-CGTTTCAC-TCGCG-GCGC\n",
      "Score of aligned sequences = 3381\n",
      "The aligned sequences are saved in output file. Printing them here as well:\n",
      "-CAGCAGC-TA-TGAGGAAAATA-GA-GCACAAAGAAAAG-C-GT-CTGC-ATCACG-T-TCCT-ACCTCCAACTAC-GA--CC--G-GAA-AAG-TCCGA-T--TCTGACT--CCTCCATGGGGAGA-AG-AGAAGGGGAAA-TAT-GTGT-AA-A-CCCATG-CTCA-GT-CTAT-AACGGTGA\n",
      "-CTGCAGA-TA-TTAGTAAGACA-GA-GTAC-CA-ATAAGCCTGT-CTGC-TTCACG-C-TCGA-AGGGCCAAATAC-CA--AC--G-GAA-AAC-TACGA-C--TCTGACTG-CC-ACATGGGGACA-AG-AGAAAGGTTAG-TCT-GCGT-AA-A-CCCATG-CTCACCT--TAT-AACGGTGC\n",
      "-CTGGACA-CA-ATAGTTATACA-GA-GTTC-CA-ATAAGCCTGT-CGGC-TCCACG-C-TCGA-CGGGCGAAAAAC-CA--AC--G-GCA-AAT-TACGA-C--TCTGTTTGACC--CATGGTGACA-AG-TGAAAGGTGAG-TCT-GAGT-AA-A-CCCAGG-CTCACCT--TCG-AACGTTGT\n",
      "TC-GGACA-TA-ATAGTTAAACC-GA-GTTC-CA-CTAGGCGTGT-AGCC-TCCCCG-G-TCGA-CCGGCTAAAATG-CA--GC--GCG-ATAATATAGGA-CAGTCTG-TT---C--CACGGTAATA-AC-CGTAAGGTGAG-TCT-GGGTCAA-T-TCC-GG-GTTACC---TCGTGACCCTGT\n",
      "T-AGG-CATTA-ATAGTTAAACC-GA-GTTC-CA-CTAGGCGTGA-ACCC-TGCCCG-G-TCGC-CCGGCCAAAATA-AA--GC--GAG-GTTATAAAGGA-CAGTCTG--T---C-ACACCGTAATA-AG-CGAAACGTGAG-TCT-GGGTCAA-C-TCC-GG-GTTACC---CCCTGACCATGT\n",
      "TTA-G-C-TTACATAGTTAAATC-GC-GTTCCCA--TTGTCGGGC-TCCCGTG-CGG-G-TCGG-ACAGCC-GAATA-AA-CGC--GA-TGTTATAAATGA-CAGTGTG--T---C-ACACCGCCATA-AGTC-AAACTTGAG-TGA-AGGTCAA-CTTCC--G-GTCACC---CGTTTACCATGG\n",
      "TTA-GAC--TACAAACTTAAAAC-GCGGTT--TA-ATTGTCTGGC-ACCCGTG--GG-GATTGG-AGAACC-GAACA-AACCCCAGGA-TGTCAT---TGATC-GTGTG-----GC-ACCCCGCCATAGA-TC-ATA-TTTAA-TTATAGGGCAA-ATT-C--GAGTCACC---CGTTTTCCATGT\n",
      "TTACG-C--TACCAATTTAAAAC-CCGG--GGTA-CTTGTCT-ACTAACCGTG--GG-GCTGGGTGGATCC--CCCATAA-CCCAGGA-GGTTAT---TG-T---T-CG--CCCACCAGCCCGCCTTCGA-T-AATA-TTCGA-TTATTCGGCAA-ACT-C--GTGT--GGG-GTGTGACCCATGT\n",
      "TGACG-C--TCCCAATTT---ACTCCTACTGATA-CTGGTAT-ATTAACC--GCACG-CCTGGCTATATAC--CGCGTAA-CCCTGGA-GGGGA---CCG-T--AT--G--CCCACCAGCACGCCTTCGA-T-AAAAATCCG--TTATTCGACAA-ACT-C--GTGT--GAG-GTGTGACCCATGT\n",
      "TG--G-GGTTCCCAATGT---AGTTCTACTGATA-GTGGTATAAGT-ACC--GTACGTCC-GGCTATAAAC--CGCGCAA-CCCTGG-TCGGGA---CCCCT---T--G--CCCGCGTGCACCCCCTC---T-GGAAATCCGCGTTATTC-AAAAGACT---TGTGT--GAGAG-GTGCCCCATGT\n",
      "Score of aligned sequences = 4263\n",
      "The aligned sequences are saved in output file. Printing them here as well:\n",
      "CCACGCGGT-A-CG---GACCAAGCCGCC--TAAGG--G-AAGTGATA---ACGTA-G--CGTGG-AAGG-GAAC-AGTG-GA-AT--GCGGTCCTCCCAGC-CTCAAC-TCCAAGGAC-T-GAG--TTGT--TATC-TAC-ATG-CGGC-----AA-CT-ATCTG-GAA-AAAG--TGGATCG---CTCCG-CACGC--CCAAAT-A-GGCC-GACA-AGGGGGATCTCG--TATCTTGCTCG-AT--GTA---GC-ACCTCC\n",
      "CTATGTGGA-A-CGAA-GA-C-TGCC-CCA-TAAGG--GAAACT-ATG---TCG-ACG--CGTGG-CAGG-GAAC-AGTG-GA-GC--GGGGTCCTACGAAC-CTGAGC-TCCAAGGAG-T-TTT--TTAT--TATC-CAC--TGCCGGC-----AACCTGA--TG-G-T-AAAGCCCGG-T-GA--CTCCG-CTCGA--CCAGATAA-GACC--ACAGA-GGGGAGCTCC--TTTATTTCTTG-TT--GGA---GC-ATCACC\n",
      "ATTTGTGCA-A-CGAT-GA-C-GGCC-CCA-CAGGG--GAAAAT-ATGT--TC--ACG-AC-TGG-CGGG-GAAC-GGTG-CA-TC--GGGGTGCTCCCAAC-CTCATC-TCCAAGGAG-TATTTCCTTAT--T-T---AC--TGCCGGC-----AACCTGA--T--GCT-AATGTCTTG-T-CA--CTCCG-CTGGA--AAACATAA-GA-T-AATAGAAGGGTA-CGCC--TCTATTT-ATGATA--CCA---GCAAT-ATC\n",
      "ATTTGTGGA-A-CGAT-CA-C-GGCC-ACA-C-GGG-AGAAAA-GATGTGCTC-TA---AC--GT-TGGA-GTTC-GGCA-CA-TT--GGGGT-CCCCCAACAGTCGTC-TTAAAGTAG-CAGATACTTAT--T-T---TC--TGCCCAC--A--AACCT-A--T--G-TGACTGTTTTG-GGAAT-CT-C--CTGGA--GTAGATAA-GA-T-GATAGAACGCTA-CTAC--TCTACTT-ATTA-AC-CCA---GCAAT-AGC\n",
      "GTTTGT-GACA-CAAT-C--C-TGCCCACA-C-GCT-AGAAAA-GATGCGCGC--A-A-AC--GT-CCGA-GCTC-GGCA-CA-TT-AGGGG--CCGCCAACAGTCATCATT-AAGTAA-CAGATACTTAT--T-T---TC--TGCTCAC--A--AACCT-A--T--GTTG-CTGGTTTG-GGAAT-GT-C--CCGGG--GTA-AAAACGA-G-GATCGACCGCTAAC-AC-ATC-ACTT-ATTA-AC-CCA---AAAAT-AGC\n",
      "GGTTG-GGGCA-CAA----GCGTGCTCTCA-C-GCT-AGAAAA-GATACGCGC--A-A-AC--TT-CGGACG-TC-GGCC-CAGTT-AGGGG---CGCTACCAGGCATCA--GCAG--G-C-G-T-CTGATGCTGAA-ACC-ATGCT--T--A--AACATGA-AT--GTTGCCGGGGTT--GGAAT-GTCCAGCC-GT--G-A-TAAA-GA-T-TATCTACCGCTAA-TAC-AGC-ACCT-CTTA-AG-CCG---AGCAT-AAA\n",
      "-GTT----TCATGAAG-GAACTTCCTTTGATC-G-T-TGAAAA-GTTATGTG---A-ATAC-CTG-GGGA-G-TC-CGCCATACTTCA--GG---AGCAACAATGCATCA--GCGGTAGCCAG-T-C----CCTGAA-ACC-AT--T-CT--A-GAGCGTGA-CT--GTTACAGGTGTT--GG-TTCGTTCAGCC-GT--G-A-T-AACTATTATATTTA--G-TCGGCAC-AAC-TCCT-CTT-CAG-CCG---CGCAT-AAG\n",
      "-GTT----TCATCAAGTG-ACTGCCCTCCATC--AT-T-CACACTTTATGTG---A-ATTC-CTG-GCG-TG--CACGCGATACTGCA--GG---CGCAGCTATGCAT-A-AACGCTATTCAG-------GACTTAAGGTG-AT--T-GTA-AGGAG-G-GACCGG-GTCA-AGTTG-T---GCTCCGTTGAGAC--TC-G-AAT--ACTAGCAT-TTTA--AATCGGCAG-AAC-TCCTGC-T-CAG-TCGC--CG-AT-ATT\n",
      "-GTT----TCATCTAGTG-ACTGCTCGCCGTC--AT-T-CACACGTTATGTG----CAGTC-CTG-GCG-TG--CACGCGATAGTGC--TGG---CCCAGCGAGGCA-CA-AACACTA-TC-G-----ATAACTTTAGCTG-AT--TCG-A-AGGAG-GAG-CCCG-GTC-CAGTTG-T---ATTCCGTTGAGA--GGC-GGAA---ACCAGCAT-TTCA--AGTCCGCAGCAGC--CCAG-AT-CAG-TCGCTGCG-A--A-G\n",
      "-GTT----TCATCTAGTG-TCTGCTCTCCGTC--ATGT--ACACGATATGT----TCTGAC-C-GAGTG-TG--GACGCGAAAGTGC---GG--ACAAAGCGAGATA-CA-AACACTAAT--G-----ATATCTAGAGCTGAAT--T-G-AGA-GAG-GAGCCCCGCGT---AGATG----CAATCCGCAAAGA--GGCAGG-A---ACGATCAT-TTCA--TGACCACAGCAGC--CGTG-AT-C-GCTCGCTGC----TCGG\n",
      "Score of aligned sequences = 5416\n",
      "The aligned sequences are saved in output file. Printing them here as well:\n",
      "GTC-CGTAAG---CAT-GAATTACGACCGAC-T-A-CTCGGCAC-CCCACC-CAGCGACT--CAT--G-A-CGA-TTACTCCCG-AAGAAC-CATCCGATA-TCTCATA-A-GATCGCCA-GGAAAGATTGTATC-CA-TTT-CTCCGTTTGC-A-T-TTG-A-GCT-TCCCTGCTCGGG--GACT-CCGATT-AC-GTGTC-AAGCGGTCCCCAGATAAC-GTAGA--TAAC--CGGCA--AGCGA-CGA-AGAGCAT-CAGAC-CAA--T---TG--GG-TGAAA-GA-CCTCTTC-AC-CTTGTCC-AC\n",
      "TTC-CGTAAT---CAT-CAGTTACGACCGAG-G-A-CCCGGCAC-CCCACT-CGGAGACT--CAA--C-C-CGA-TTCCGGTCG-CTCAAC-GATGGGAAA-GCTCATC-A-CTTCGGTA-CGAAATATTGTA-CACA-TTTAC-CCGTGT-CTA-G-TTG-A-GCT-ACCCTTTTCCGG--TACTGCC-ATTAAC-AT-TC-CAGCGGTCGCCAGATAAC-GTTTA--T-ACG-CGGCT--AGCGA-GGC-AGAGCAT-CAG-CGCAA--A---TGA-GA-T-AAG-GA-CATCTTC-AG-ATGGTAG-AC\n",
      "TTCTC-TGAT---CAG-CAGTGCCGACCGAG-G-ACCCCGGC-C-CCCAAT-CAGAGA-T-ACAA--T-C-CGA-TTCCGGCCG-CTTAAC-GAACCGAAA-GAGCATCGA--GTCGGTA-CGAAGTAGTGT-TCAGT-TTTAC-CCGTGT-CT--GTTTC-A-GCT-AACGTTTT-CGGT-TTTTGCC-GTTGAG-AT-TC-TAGCTGTTGTCAAATAAT-GTTTA-TTCCCG-C-G-T--AGGGG-GGA-ACAACAT-CAG-CGCAA--A--CT-A-CA-T-AAG-GA-AATCTTC-AG-ATCGTAG-AT\n",
      "TAATC-TG-TC--CAT-CAGTGCCCATAGAG-A-AAACCGTC-C-CCAAAC-CATAG--TCACAA--T-A-CGA-TTACGGCGG-CGTAAA-GTACCGAAA-GAACATCG--CTTAGATA-CGAAGTTGAGT-TCAGT-AGTAC-CCGT-T--TGGGTTTC-A-GAT-ATCGTTTT-AGGT-TTGAACC-GTCGTG-AT-TCAT-GATAATGTCAAATAAT-TTTTA-TTCAAG-C---A--AGGGGTGGG-ACCTCAT-AAG-GGCTA--A--CT-ACCACTGGA--CA-AATC--C-CG-ATCGTCC-AT\n",
      "TAATC-AG-GC--CGT-CGGGGCGCGTAGTG-A-ACATCGT-GC-CCAAAC-CATA--ATCATAG--G-A-AGA-TTACGGCGG-CTTAAA-CAACCTAAT-GAGCATCG--CTTAGATA-CGAAGTAAACT-TCGGT-ATTAC-ACG--T-ATGGTTTTC-T-GAT-ATCGTTTT-AGGT-CGGAA-CTGTATTG-AT-TCA-AGATAAGGTCAATTAAT-TAGGA-TTC--G-C-GCC--AGAGGTGAG-AGCGCAT-AAG-GGCTA--A--CT-ACCACTGGA--CC-AGT--GC-CG-ATCCTCC-AT\n",
      "TAATCTA--GCA-C-T-AGGGGTGCGTACTG-ATA-ATAGT-AC-CCGGTG-CAT---GTCA-AGA-GAA-AGATTTCCGGC-G-CGTAAA-GAACCGGAT-CAGCATTGG-ATCA-ATA-CGAAGGATAC-GCCAGT-AGT-CCACG--T-GTGGTCGTC-T-GATGAGAGTATT--GCC-CGGAA-CTGTA-TGAAT-GCA-ATATGAGGTGAACT-CT-TAAGACTTCCCGAC-ACA--AGAGATG-GCA-C-C-C-CA--GG-TA-CA-GCT-ACCAC--GACACC-AGT---C-CGTACCCTCC-AA\n",
      "TAATCTA--GCT-C-T-AGGGGCGCGTACTGCA-A-ATAG-GCC-CCGTTG-CAT---GTC-CTGC-GGA-AGATATCCTGC-G-CGTAAA-GTACTGGTT-CAGCCTTTG-ATCA-A-AGCGAAAGATAC-GCCAGT-A-ACCCATG--T-GGGGTCGTC-T-AATGAGTCTGTT--GCC-CCGAA-CAGTA-TGAAT-G-TGATATGAGGTGTACT-CT-TACGACTTCCCGAC-ACA-TAG-CATG-GCA---TTC-CA--AG-TA-CA-GCT-CCCAC--GACACC-CG--AGC-C-TGCCC-CCGAA\n",
      "TACGCCA--GCT-C-TAACGTTC-CGTTCTGC--ACATA-TGCCTCC-TTG-GAT----CCCCTTCAGGAGAGATA--AAGC-GAC-TCAA-GGGCTGGTT-TTGCCCCTG-ATCA-AAAG-GATAGATAC-CCCTGTGA-A-CAAT--AT-GGGTTAGTA-TCAA-GAGGCTCAT--ACC-ACGGA-CAGTA-CGAAT-G-TCATATTAGGTGTACT-CT-TAGGACTTCGC-TCCACAGT-G-CCTG-ACA--GTGCTC----G-TA-CATGCT---CA---GAGACC-GGTGA-CTC-TGCAC-CCGAA\n",
      "TCCGGTA--GCG-C-TTACG-ACCCGAGCCGC--TCATA-TACGGCC-TCGAG-T----CCACTGCAGGAGGGCTA--TCGC-G-CCTCAT-GCGCCGGGT-TTGGCCCTGAATGA-ACA--GATCGATTC-CAATTTG----CACTCTAT-AGGTTA-AACTCAA-CAGCCTCAT---CCGACGGA-AAGTA-GGAAT-G-TGATGCTCGGCG-AATTCT-CGGGACATCTC-TCTACTGT-GTCAT--ACA--GTTCTC----G-TA-CA---T--ACA-CCGACACC-GATTA-CGC-TACA-ACCAAA\n",
      "GCTGGCA--TCGTC--TACG-ACCCGAACCG--ATCACA-GACGGAC-ACGTG-T----CTATTGCAGGCGGGCT-GGT-GC--CCCTCATATAG-CGGGTCTT-GACCTGAGGGA-TCA--GATGGACT-GCACTTAG----CACGGTA-CAAGTTA-AACTCCA-CTGGGACAT---AAGACGG-TAAGT-GGGCAT-G-TGGTGCACGGCG-ATTTCTAC-ATACATCTC-TCCAC-GCAATCAT--ACATGGCTCTC-------ACCA------ACA-CCGAC-CCAGATT-GCGC-TACA-ACTGAA\n",
      "Score of aligned sequences = 6561\n",
      "The aligned sequences are saved in output file. Printing them here as well:\n",
      "ACCAAGGTTA-T-TTCG-TTACT--TACT--TCTACCTCA----GCATAT-AA--ACAC-C--TGGGAGA-AAAC-T-TG-T-CACTCCCCT-TAATTA-TAAAT-CAC-CATGCA--AACTGTTC-C-C-CACG-CCT---TCC--T-GGTCT--CTGATAGAC--C-GTT-TCACGGC-AC-CA-C-TCGAAACACTGGGAG-GA--TCTTG---CCCTCAACCTGCCT------A---TATC---CCA-TCTG-GT-TAACGTTGGGTTGCA-----C----GCAGGGATG-CAT-TAAAGAT--TCGGTT-CTCTACTGGTAAAT-ATCGGC-CAC-CGC-G----C-GGATC-CCCGCCCG-TG--GCAAAAT-TGAAT-GCATATC-GGAG-TC\n"
     ]
    },
    {
     "name": "stdout",
     "output_type": "stream",
     "text": [
      "ACCAAGGTTA-T-TCCG-ATCCT--TACT--TCTGCCTCA----CCATAT-AAGTAC-CTC--T--GTTA-TCACTTCTG-T--GTTACCGT--AATCAG-GAATAAACT--TGGA--AACTGTAC-C-C-CCCG-ACT----CC-AT-TTTTTG--TGATAG-CG-C-GTT-TCACGGCAACGCAGCAT--AAAC-TTGGG-GTGA---CGCG-A--CGTCAAACTGGCTG----GA---TA-CA--T-A-T-TGCGT-T-TCCCTACATTACAC----C-----CAGGGATG-CAT-CAACG-TG-TCACTT-TTATACTGGTAAAT-ATCCTC-CAC-C-CAG----CAG-ATCG-CCGTCCG-AG--GGAAACTA-CAAT-GCATACC-GGCG-TC\n",
      "AGCAATGCTA-TA-CCG-TTAGT--TACTC--CTGCCTTA----TCATTTC-AGCGC-TTC--T--GTTAC-CAGTTCTG-T--CTGAACTT--GACCCG-TAATACACT--TGGA--AAGTGTACTCAC-CG-G--CT----CCAAT-TGT-TG--AGATTG-TG-CGGTT--CGCGGCAACGCAGCAT--TAAC-TCGTG-GTGA---CG-GCA--CGTCAGCCTGGCTG----GAG---C-CA--TAAGT-CGC-T-TGT-CGT-CTTTACAC----CA-----ACGGATG-CTTA-AACG-TG-CCACTT-TTAGACTAGTAAGTG-GCCTCA-ACT--CTG----CGG-ATCG-CCGTTCG-AGC-GTTA-C-ACCATT-GTAT-CCAGCCG-TC\n",
      "AGGATTGCCA-CA-CCG-TTA-TC-TACTCGGAT-A-TGAG----CATTTC-AGCGC-TTC--T--CTTAC-AAG---TGATAACTGAACTT--TTCCAG-T-ATA-ACTCATGGAC--A-T-TA-T-ACTTG-GCTCTC---CCCGT-TAT-CG--AGAGTG--GACTGTTA-C-CGGAAACGCCGCAC--AAAC-TCGTG-GTGA---TG-CCA--AGTCCTCCTGGGTGT----AG---C-CAG--AAGT-CTC-T-TCT-CGT--GTGCCCC--T-CA-----CCGGAGGA-TTA-AACG-TGT-CAGTTGT-AGGCCAG-CAG-GAG-C-CATGTT--CTG-TA-CGGC-TCGA-CGCCCG-AGC-GTGATC--TCATTCG-AA-CCCCCCGC-C\n",
      "A-CCTTTCCATCA-CCG-TTA-TC-TACTC-GATGA-TTAG----GATTTC-CTCGC--TC-GTA--TTAC-GAG---TCAAAACTGGTCTTG-T-CCAGC--GTA-AAGCGTGGAC-G--T-TA-T-AATTGAG-TCAC---CCCGTG-AT-CGCCA-A-TG--GCCTGGTA-C-CGCAAAGGCCGCAC--AAA---CG-G-GTGATGTTG-CCA-T-GTCCTAGTGGGTCT----CG---T-C-G-AAAGA-CTC-T-ACTCC-T--TTGCCCCT-T--AG--GTCCGGA--A-T-A-ACCG-TGTA-AGTTGT-ACGCCAA-CAG-GAG-C-CATGTTC-C-G-TA-CGGC-TCGAG-GCCCG-CGC-GAGATC-TTC-TTCT-AT-GCGCCCTC-C\n",
      "A-CCTTGCCGTCA-CCG-CTA-ACGT-CTC-GGTAA-TTCG----TAGTTCAC-GGC--AC-GGA--TTAC-GCG-T-TC-CAACTGATCTTG-TA-CAGCT--TT-AAGCTTGGCC-GC-T-CA---AAAAGAC-TCAC--G-CC-TGCATACCCCA---TA--GCAAGGTA-G-CGCTAGGGCCGCAC--AAAT-T-G-G-G-GATATTG--CATTGG--C--G-GAGT-TAG-GCG-ATT-T-G-TAGGA-C-CAT-AC-CCAT--GTGCCCCT-T--TG-T-TCCGGA--A-TAA-AAC--TGTA-AGCTGT-GCGCCAC-CCG-TA--CTCA-GAAC-CGGA-A-C-CCATCGCG-GGCAG-CTCTG-CATG-TTC-TTCT-AT-GAGGCC-CAC\n",
      "G-CCTTGTCGTTACCCGT-T--ACGT-CTA-GG-AAGTTGGTT--T--TTTAC-GGC---CTGCA--TTAC-GCGCT--C-CAACTGACCTCG-TA-CA-CT-ATG-AAGCAT-GCCGGA-T-CG---AAAAGA---CACGTGTCC--GCATACCCCA---AA--GGAAGCTA-C-CGGTAGTGCCGCAC--AAAT-T-G-G-G-GATATT---AAATGG-CC--G-GA-TCT-GTTCG-A-T-T-GATAAGA-C-AATCA--CCAA--GTTCTCCT-T--TG-TAT-CGGA--A-TAAG-AT--TGTA-AGATGT-GTGCCAA-CCG-TAC-C-CA-GTTC-CTGA-A-C-CCGTAGCG-CGTAG-CACTG-AATG-TTC-TTCT-AT-GA-ACCTCAC\n",
      "G-CCTTATCGTTACTC-T-TA-ACCT-CTA-GG-AGGTTGGTTG-T---TTCC-GGC---CTGCAGC-T-C-TCGCT--C-CGGCTGGCCTCG-CACC--CT-ATG-AAGTAT-TCCGGA-T-CG---AAGAGA---CACGGGTCC--GGGTACCTCA---AA--GTAAGCTAGC-C-GTCGTGCCGCCC--AGAT-T-G-G-G-GATA-A---AAAAGGCCC--G-GG-TGT-GTTTG-G-C-T-GAGAAGA-A-AATCAC-CCTT---TTCTCCT-T--TG-TAT-CGGA--AC-AAG-AG--TGTAT-CACGT-GTGCCAA-CGG-T-C-CTCG-GTTC-CT-A-ACC-CCTTACCG-TGT-GCCACTG-GATG-ATC-TTCT-AT-GC-AGCTCCC\n",
      "G-TCTTAGGGTAATTC-T-TT-ATCT-CTA-GG-A-GCTCGATGATC-ATT-C--AC---CTGCA-CTT-C-ACGCT--C-CGGTTACCCTCG-AACCA-C--GTG-AAGTAT-TCTGGA-T-GG---AATA-AT--CACTGGTAC--GTATACCGGA-C--C--TTAAGGTCGC-A-GTCCTGCGGCCC--AAAT-TA--G-A-GATT-A---GAATGGCCA--GAG--TGT-GTGTGAG---G-GCCAATA-A-AGGC-T-CCTT---TT-T--TGTC-TGAGAA-GGG---ACAAAGAAG---CAATGCAC-TCAACCCTA-CGG-C-C-CACG-GTTC-C--AGGCC-ACGGACCGCAG--GCCGCTC-TCTG-AAC-TACT-AC-GC-AATTACC\n",
      "G-TCTTAGGGTCATTC-TCTT-A-GT-CTA-GT-A-CCGCGATGATCTATT----AC---CTCCA-C-C-CAACG-T-GG-AGGTTACCGT-GCAACCG-C--ATG-AACTGG-TATAGA-T-GT---ACGA-AT--TACCGGTAA--GTATACC--ATC-GC--TAAAGGTCGC-A-GGCCTGCCGTTA--AAAT-TAT-G---CATT-A---GAACGCCCA--GAGA-T-T-CTGTGTG---G-CCCCATG-A-AGG--T---TT--GTT-TGATGTCTTG-GAA-GGGT--TC-AAGAAC---CCCTGCAT-TCCGCCCTA-CGG-C-C-CACG-GTTC-C--AGGCA-ACGGACCTCCG--GCGGCTC-TCTT-AAC-TCCT-AC-GA-AAATACC\n",
      "Score of aligned sequences = 7594\n",
      "The aligned sequences are saved in output file. Printing them here as well:\n",
      "-GATC-TTCCGC---GACT--CGGGCCGGTCT-AGT-G---ATAAAT-CTGAACGAATAG--CG-ATAGGCTG--ACCG-CGCCTTTCA-TGT-GA-GGATGGCGT-CCCCGGA-TTAC-CCGTGCTAAGCGACGC-TA-AGAGGCA-G--GGACCC-GGAAGCC--GCGGCATCA-TTGA--T--GTAA--TTGGA-AGGCGCGCG-G-GTT-TCACGGT---TTTGCTTAAGGGCTG-CACCTTTA-CC-AGGAG-ATAA-GTATTGTA--TTGTGGATT-CGCGGAATC-GC-TTGCGCA---G-G-T-TCG--TT--CGCATAAAAATAGTCAT-GCTG--CTGGCGTG--GAATA-T-C-CCCTCCCCGT-G--GTAG-CGGCTAAT-CG-GTA--GTAGTCCTTTCC--CGTTG-GC-TAAACGCGTGATT\n",
      "-GATC-CACCGC---GCCT-CCTC-CCGGGCT-AGT-G---CCAAAT-CTGAACTAGTAG--CG-ATAGGCTG--ACCG-AGCCTTTCA-TGT-GA-GGATGGCGTA-TCCAGA-TTAC-CCGAGCTAAGCGACGC-TA-AGAGGCA-G--TGACCCGGGAA-CC--GCGGCATCAGTT-A--T--GTAAG--TGGA-TGTCTCGCG-GT-TT-TCACGGT---TTTGATTAAGGGCTGA-AGCTTTA-CCT-GGAG-CCAAC-TACTGTA--TAGTTGCTT-CGGGGACTC-GC-TTTAGCA---G-G-T-TCG--TT--CGCATAACAATAGTCATA-CTG-CCCG-CGTGC-C-ATA-T-C-CCCT--GCGT-GCAATCG-CGTCTAATCCG--TA--GTAGTCCTTTCCA---ATGAGC-TAAACACGTGATT\n",
      "-CAGC-CACCGC-G-G-CT-CCGCAAGGGGGT-A-TGG--A--AAAT-ATGAACCAGTAGA--GCA-AGGGTG--AGCGAAGC-ATTCA-T-TCAAGGGA-CGTGTA-ACCAGAC-CACGCAGAATTA-GCGTCGC-TA-AGAGGCA-GTTTTA-A-AGG-A-CC-GGCGGTAGCAGTT-A--TCC--CAG-TT-GA-TATATCGCG-GTGTTA--ACTGTA--TTGGA-TAAGGGCCGAG-GCA-TATTGTGGGGGT--AACGT-GTGTAT-T-GTTGCTTCCAGGC-CTCTCCAT-T-GCA---G-GAT-A-GTTTTAGCGC-T---GTTCGTTTTA-GTG-CCAG-TGTAC-C-ATA-T-C-CCCT--GCCT-GCAATTGT-GTTTAAACAG--TA--TTAGTCCTTAGCAG--A-GCGC-TAAACCCGTGCTT\n",
      "-AAGC-CACCTCGG-G--TA-AGCTAGGGGGT-T-TGG--AG-A-ATGA-GAACAAATAGA-GG-T-ATGTTGA-A-CCTGGC-ATTCACC--CAAGGGA-CGTATA-ACCAGAC-CCCACCGAGTTA-GAGTCTC-TA-AGACG-AGGTTGTA-A-ATG-A-CCTG-C-G--GCAG-T-ACTTCCTATAG-TT-GAGT-GATCGCGC-TGTCA--ACGGTAG-T-GGT-TAAAGGTCGAG-GGA-TATTGTGAGGGT-GGA-TT-GTGCAT-TGGTA-CTTTCATACAC-CT-C-TCTGGCA---G-TATAATGA--TGGC-CAT---GATGGTTTTACGGG--CAGC-GTGC-CG-TA-T-C-CCGT--GCCT-GCGATTGT-TTTTACACCG--TA--TTAGTGCTTAGC-G-CT-GCGC-CAATCCCGTGCGT\n",
      "-TTGCTGAAC-CGG-GA--A-AGCTTTGGTGTA--CGG--AG-A-ATGA-TAACACATACA-GG-T-ATGCTGA-A-CCTGGC-ATTCACC--AAAGGGA-GGTAGA-CCCAGAC-CCCCCCGAGTTA-GAGTCCCG-AGGGA-G-CGGCTG-A-AGATG-A-ACTG-C-G--GGAG-T-CCTCCCCCTAG-TTGG-GC-GGTCGC-CAAGACA--ACGGGAGTT-GGC-T-GAGGTCG-GCGGA-TATTGTGTTTGT-AGA-TT-GTGCGT-TGG-ATCTTCCAT-C-CACTCCACCT-GCAG-GG-T-TA-GGA-TTGCC-C-T---GACGGGTTTACGGG--CAGCT-TGC-CG-TATTGC--C-A--GCCTCACG-TTAT-TATTACCCCG--TA--GTGGTGCCTAGC-GAC--CCGC-CAATCCCGTGCGT\n",
      "ATT-CTGAAC--GGCCA--ACA-CGACGGT-TAC-CGG--AGTATTTG---AAGACATTCATGGAT-A--CTCA-AT-CTGGC-ATGCACC--CAAGGGG-GGGAGA-CACTG-CGTCACCCTAGGCAGG-GTCCCGCAGGTT-G--GGCTG-G-GGATC-A-ACTG-C-T--TGTG-T-CCTCCCCTTTGTTTGGAGG-GGTC---AAAGACA-GA-GGGAGTTC-GC-C-GTGGTCC-GAAGA-TGCTGCGTCTGT-AGA-TT-CTG--TGTGGTATGTTCTAT-C-AAGTCCACCT-GCAG-GG-A-TATGCA--TGCC-CAT---G-CCAGTTTA-GGGA-CACCTCT-C-CG-CATT-CA-C-A--GTCGGAGG-GCATA-ACTGCA-CG-TTATCG-GG-GTCTCGC-AAC--CGGC-CAAACCTGACCGT\n",
      "TTT-CTG-AC-TGG-CA-CCCC-CGACGGT-TAG-CGG--GGTATTTG---AGGTCA-TCTTTTA--ACGCTAA-AT-CACGC-ATGCACC-G-AAGTAG-CGGTGA-CACTA-CGGCAGCGAAGACGGGAGT-CCGCAGGTT-G--GAATG-G-GGATC-G-TCTGA--T--TGGG-A-CTTCCCCTTTGTTTGCAGC-GGTC---AACGATA-GC-GGGAGTGCGG--C-GTGGTCC-AAAGAC-GCTGCGCCCGT-AGA-AT-CTG--TGTCGTGTGTCCT-TGA-AAGGCCACCT---AGTGGCA-TAAGCA--AGGC-CAT---C-CCCGTTTA--GGAGCTGTTCT-C-CG-CATG-CAG--G--GTGGGCGT-GCATAT-CTTCA-CG-TTTTCGAGGAG--TCGC-GAC--CGGC-TAATCGTGAGCAT\n",
      "TGT-GTG-AC-TGG-CATACAA-AGA-GGT-TTG-AGGA-GGAA-CTG---ACGTCA-TATGATA--ACGCTAAC-T-CAC-CAATGGATC-G-AAGTAG-CGGTGA-CACTC-CGGCAGAGTCGTTGGGACT-CCCCAGGTT-G--GAAAG-G-TTCCC-C-TCTGA--T--AGGG-A-CTTGCGAATTCTTTGGAT--GGGCG--AACGAAA-GC-GGGAGCGGGGT---TTTGTCG-AAAGACTG-TTCGTCCGT-ATA-AT-CTG--AGAAGTTTGTACT-TGA-AAGTTGATCT---AGTGTCA-AAAGCAT--GGC-CGT---C-CCCGGTTA--GGAACAG--CTGCGCG-CGCG-CAG--G--ATGGGCGT-TCACAT-GAT-AGCGCTTT-CTAGCAG--TCGC-GAC--CCGC-TGAGGGTGAGCAC\n",
      "TGG-GTG-AC-TGG-AATACAA-AGG-GGT-TTG--TTACGTAAT-TG---CCTTCA-TAAGATA--ACGCT--CATAGAC-CAATGGATC-G-AAGCAC-CGG-CAGCGCTT-CGGCAGACTTATAGGGACT-ACCCA-ATT-G-TGAAAG-T-TTACG-C-TCTGAT-T--A-GG-A-CTTGCGAAATCGTTGGATC-GGG-G--AACGAAA-AC-GGGAG-TGTGT-C-TATGCCG-AAAGACTG-TTTGTCCAT-GTA-AT-C-GT-AGAAGTTTGGACT-TGA-AAGATGATCT---AGTGTAA-AAAGCATC--GC-CGT---A-CTCGTTTT--GGAACCG--CTGCTCGCC-CG-CAGA----ATGGGCGT-TC-CCTGGAT-AACGCTTTA-TCTCAG--TCGC-GAC--CCGCATGA-GGTGGGCGC\n",
      "TGT-GTC-AC-TTC-AATATAA-AGG-GTT-TTG--TCATG-CATGAGA--CC-T-ATTAGGAGA--ATG-TA-CATTGTT-CAATAG-TT-GAAAACAC-CGG-CAGGGCTG-CGCCAGACTTATA-GGAATAAGGCA-AAA-GAT-AAAC-C-GTACG-C-TTTGAT-T--A-GG-A-CTTGCGAAATGGTACGTTC-GGG-T--AAGGAAAGTC-AGCAG--GGGC-C-TATGCGG-CAAGAGTG-GGTGGCCGTAGT--AG-C-GT-ACAAGCTGGGACT-GGA-TAGGGGATCT---TCTGTTA-ATTG-A-CGAGC-CAT---A-CCCGTCCT--GGAAACG--CTGTTCGCCTC--CAGA-G--A-GGGGGT-TT-TGAGGAT-AACG-GTTATTCTC-GT-TCGA-TAC--ACGCATGA-GGCGGGAGT\n",
      "Score of aligned sequences = 8717\n",
      "The aligned sequences are saved in output file. Printing them here as well:\n",
      "AGGGAAAATTAG--TGGTGTCACAC--ACTAGA-GA-ACCGT-GAGCG-C--ATAGTGTC-ATC-TGA---CGGG-AAGAT-T-TGCC-C-G--C--GATGCTGACTGTCCAAAGGTCCAAG-GG-G-ATTT-CG-TGCTT-AG-ATC-C-G--TCTACTTGTGTC-TGCA-GCATCTC-TGGCA-AC-CA-CAGG-TA--TGACGCGCT--CTCAG-CTGATCA-TTC-CATGA-ACA--CGA-AA-GGAGCG-TGACCG---ATTCTTTCA--AGTC--CATGGA-AAT-GTA-A-AGTTTAA----C-A--ACCGTGTGT-CGC-ACCCTGTGGGCTAGTGACATGGA-GC-CTA-GAC-ATT--CCAGT-ATATGAAGCAGT-AGCGGCAC-ATGGTTGACC-TGTACCC-CTA-AC--TCCCT-GTG--G-GTGGTTTCGC-TTCTCTGGG-AG-CTTTTGA-GAGGTATGC-TACTAA-GTCTCGG-G--CGATTA\n",
      "AGGGAAAATCAG--GGGTGTCAAAG--ACTAGC-GC-GCCGC-CAGCG-CG-GT-GTGTC-ATC-AGA---ATGG-AAG-T-TATGCC-A-G--C--GATGTTCACGGTCCGAACATCC-AGCTG-G--TTTCCG-TCCGG-AA-ATC-C-G--TCAACATATGTC-TGCA-GCATCTC-TGGC--ACGGG-CAGG-TT--TAACGCGCT--CTCAA-CTTTTCA-CGA-CTTGA-ACA--CGA-GC-GGAGCG-TGACCG---ATACTCTCA--TGTC--CAT-GA-ATTAG-ACA-ACTTTAC----C-A--TCCGTGTGT-CGCGA-CCAGTACGCTAGGGAAATTGC-GCTC-A-GTC-AAA--CAAGT-ATATAAAGCTGT-AGGGGCAC-ATCATTGACC-TGTACCC-CTA-AC--TCCCT-GTG--G-GGGGTTTCGC-TCCTCTGGG-AG-ATTTTGA-AATGTATGC-TAC-AATCTCTCGG-G--CAAATG\n",
      "ACGGAAAATCAG--GGGTGTC-TAG-TCCTACC-TC-GTCTA-CAGCG-CG-AT-ATGGC-AGC-AGAG--A-GT-CAG-T-TAGGCC-A----C-TGTTTTTCACATTCCGAACCT-CGGGCAG-G--TTTCCC-TCCGG-TA-CTC-C-G--GCAACATATGTC-GGCA-GCATATA-AGGC--ACGGG-CAGG-TT--TAACTCGCT--CTCAA-CTACGCC-CGA-CTTGA-ACA--CCA-GC-GCACCG-TTCCCG-C-A-ACTATCA--TGTT--CATCG--ATTAG-ACA-ACTTTAC----C-A--TCAGTGTCT-CGCGA-CCAGTACGTTCGGGAAAGCGC-GCTC-A-GTC-AAAG-C-AGT-ATACCAAGCGGT-AGTGGCGC-ATAATTGTCT-TGTACCC-GTAGA---TCCAT-G-G--GCGGGACTTCGC-TCC-CCGGGCCT-ATTTTGA-CATGAATGC-TA-TAAGCTCACGG-G--CCAATA\n",
      "ACTCCAAATGAG--CTGTGTC-TAG-TATTACT-TC-CTCTA-CAGAG-GG-AT-ATCGC-AGC-AGAG--A-GA-CAG-T-TAGG-C-A-A--T-TGATTTTCGCATTCTGAA-CTTCGGGCAG-G--TTTCCC-TCCGT-TA-CGC-C-G--GCAGCCTGTATC-GGCACGGGCA-A-AGGC--ACGGT-CAGC-AT--TAACTTGCT--CTGAA-ATACGCC-CGA-CTTGT-ATA--CCA-GC-ACACCG-TTGCCG-C-A-ACTATCAC-T-TT--TATCG--ACTAG-ACA-ACTTTTC----C-A--GCCGTGTCT-CAAGA-CCGGTCCCTTTGAGATAGCGA-GTTC-C-GCC-AAAG-C-AGT-ATACCAAACAGT-GGTAGCGC-AAAAAGGTAG-TGTAACC-GCAGA---TCCAT-G-G--GCAGGAAGTCGC-TCC-CCTTGCGT-ACTTTCA-TATGATTGC-TA-AAACCTCACGG-A--CTAGTA\n",
      "ACTTGAGGCGAGCCCAG-GT--T-GCTACTACT-TG-CTGTA-CCGAG-AG--TCATCGC-TGCGA-AG--A--ACCAG-T-TCGG-CAA-A--T-T-CTAATAGCATTCAG-AGCATCGCAAAG-G--GATGCC-TCCAT-TA-CCC-C-G--GCAGTCTGCCTC-TGCACGGTCA-ACA-GC--ACGGT-CAGA-AA--TCTCTTTCT--TTGAG-TTACGTC-CGA-CTTGTGA-A--CCA-GG-AGACGG-TTGCCT-C--GACTA--GC-T-TTAGAAACG--AATAG-A-AGACTTTTC----C-A--GCCGAGTCT-CAAGA-CTGATCCCTGTAAGATAGCGACG--CGG-GCC-ATTG-C-ACT-ATACGATACCGTAGCT-GCGC--ACAGGGGGGCTCTACCC-GCTGAC--CCCTTCGTC--GCA--AA-TCGC-TCC-TCTTGCGT-TGTTTGA-TACGGCTCC-TA-AAACAACA-GGCA--CTAGTC\n"
     ]
    },
    {
     "name": "stdout",
     "output_type": "stream",
     "text": [
      "GCTTGGGGCGCGCCCTG-G--AT-GATACTACT-AG-CTG-ACCCGAG-A--CTCATCGC-GGCCA-CC--A--TCCAG-T-TCGG-TAA-AC-C-T--TAATATCACTC-GGACCTTGGCAAAG-G--GAAGAC-T-GGG-TAGGCC-C-G-CGC-GGCGGCCAC-TGGACGGGCA-ACA-GC--AC-G--CAGAGAA-CTCGCTTT-T-ATTG-GCTTACGTC-CGA-CGTGTGA-C--CCC-GG-CGGCGA-TT-CCT-T-GGATTA---T-TAATAGAAACG--AATAG-A-AGA-GTCTC--A-A-AT-G-TGAGACT-GAAGA-CTGATCCATGGAATATAGCCAC--TCAG-GCC-ATTGAC--CT-CTACAATACCGTAACT-GCG--AACTGGGTGTCACT-CCCAGCTGAC--GACAGCGTC--GC---CAGGCTA-TAC-TGTTACGT-TGTTCGA-TACCACTTC-T-GTCACAACA--GCAGTCT-GTC\n",
      "GAATGTCGCGCGCCCAACG-TATGGA-A--AAT-AG-CT-TACCGGTG-A--CTCATCGC-AGCC-GCT--A--T-CTGGT-TCGG--AAGTC-CGT--T-ATATCACTC-GG-GCTTTG-ACAGCG-TTAAGACAT--TG-TTGGCCACTG-AGC---CGGTGACTTCG-CAGG--TAC---CA-AC-GTGCGGGGCA-CCCGCTGT-T-AATG-GGGTAAGAC-C-A-C-CGTGA-C-ACCCGGG-CGGCGAGTT--TT-T-GGAGT---GT-AAATAGAAACG--GACAG---AGGTGTTTT--A-A-TT-GAT-AGACT-GAA-TCCTGATCCACGGATTATAATCAC--TCAG-GCCTA-TGA--ATTGCCGC-ATACCCT---TAGAGACAACTGGGTGTC-GTTTCCATCTGAC-AG-CAGCGTC-TG----CAGCCTA-TGC-TGTTAAGG-CGTTCGA-TACCTCTTC--AGTCTCAGCA-CG-AGGGT-GGC\n",
      "GAAAGTGGCGCGCCCATTG-TATAGA-A--ACT-AGCCT-T-CCGGTG-A--CTCATTGC-AGCC-GAT--A--T-CT-GTCTCGG--AA--CAC-TTAT-ATATCGCGC-TG-GCTTTG-ACAGCT-TTAAGACAT--AC-TTCGCCACTGCA-C---CGTTGACCCCG-CAGG--T-C-CCCAGA---TTCGGCGCA-CCTGCTGT-T-CGTG-GGGT-A-ACTCTA-C-AGAGA-CTA-CAGGG-CGGAGGGTT--TC-T-CCAG---GGT-AAATAGAAA-GG-GACAG---AGGTGTTTG--A-A-TT-GAT-AGACC-GAA-CCCTGATCAATGAATTATAATCAC--TGAGCG-GTA-TGA--ATTGCCGC-ATACACT---GAGTGACATCTCGGAGTC-GTCTCCGTCTGAC-AG-CAGTGTC-TG----CCCCCTA-AGC-TGTAAAGG-CGGTCAA-TAACTCCGC--AGTATCAGCA-CG-AAAGT-GGC\n",
      "GACTGCGGAGTGGCCGTTG-CA-AGCTA--ACT-CGCC--TCCCTGTGAAT-C-CATT-CTA-CC-GCTGGA-GT--T--T-GCGG--AA--CAC-TTA-CAGATCG-G-GGGGGCTTTG-TCAGCTCAT-AGACAT---CGTCCACCACTG-A---AAAGTTGCCCCCG-GAGG---AC-ACCAGA---TTCGGAGCACCCT-C-GT-TGCGTG-GGG-GA-ATTCTAGC--GCGA--AAATAGGGAC-GAGCGTT--TG-TACC-G---GGT-CAATAG-AATGG-GACAG---AGGTATTTGTAACATTTGGGT-TGACCGGGA-----G-T-AATCCGTTATACT-A-ATTGAGCG-GTA-TG---GCTGAAGCTATTCAC---GGAGTGACATCGCGAATTC-ATATTCGTCTG-CTTG-TAGT-ACATG----CCACGTA-A-CCAG-AAGGGCCAGTCAA-TAAAT-CGG-AAGTATCAGTA-C-CAAAG-GGGC\n",
      "GCCTTTGGAGTGAACGGCG-TA-AGCTA--TCTATG-C-GT-CCTGT-TATGC-GA-T--TATTTTGCTGTA-G---T-AT-G-GG--AA-CCTC-CTA-AAG-CCG-TAAGGGGCATCG-TCAGCCCAT-AGAAAT---CATCCACCACAG-A---AGCGATGCCGTCG-G-GG--TTC-AGCAGA---TTATAAGCTCCCT-C-G-GAGCATG-CGG-GA-GCTCAATC--GCGA--ATGTAGGGAC--AACCTT-TTGATA-C-G---GGTCCAA-AG-ACCGGCCA-AG---AGGGATTTGTAACATCT-AGTTTGTCC-GG------GTTTCGTGCGTCATAAT-A-A-CG-GTGTGT--T-CTCGCCGCAGTTACTCA---AGGAGGGACCTCTCGGATTC-ATATGCGTGTG-CTT-TTAGT--CAAG---GCCACG-AGA-CCA-AAATCGCCGGT-AAGCACGT-CGGCACG-AGCAGGA-C-TAAAG-GTGC\n",
      "Score of aligned sequences = 9673\n",
      "The aligned sequences are saved in output file. Printing them here as well:\n",
      "TC-AATGCATGCAGCAC-GT-GT----GATCGATAGTTTGA----CAGGGTTAAT-TCGTCT--T--T--TAATG--ACCCTTA-ACCG---CGCTGCTCGC-TGT-GATGTAGT-TA-AGTCGAGATATCCTCA-GCCA-CATGATAGAC---TG--AG--AAAACGATGG-GG---CGAC-T--CT-GAACCG-GGTCCTCGGAC-AATGCATTGACTCTGACT--TT---G--CTGTGA-TGCCTGGATAGGTTTA-CCAACTTCTGG-CCG-ATAG--TAA-CTCCC-AACCCT----AAC--CATAGGC---CCTCAAGCG--CC-ATCGAG-TGGTTG-CT-ACTGGCCG--ATGATAAAA-ACCG--GTC-TG-GCCATGTTGGT-TC-AA--T---TCCCGGCCTGCTCC-CTGC-AC---AAAG-TCCCGC-CCGA-GTTAAC-----AG-A-ACCACTACGTAC-CCCCTT-ATTTTC---AAGC--GTGCAA-GGGGCCG-GGGGGAT-GGCA--AA-CCATTA---TACTCT-CTCCCA--AT-AAAGGAGC---ACCCT-GTAA-TAC\n",
      "TCAAATAT-TGAAGCAC-GT-GT----CATCGATAGTCT-A--C-CCGGGTT-ATCCCGTCT-GT--T---GATG-TA-AC-TATACCG---CGCTGATAGC-T-TGGATGTAAT-TA-AGTTGTGAAAT-CAAATG-CAGCATGATTG-CT--TGT--GT--ATATGA-GGCGG-CCCAACATCACTCGCA-CG-GG-----GAAC-TTTTCATTGAGGATTACT--TTGAAGA--TATGAGT-TCTGCA--GG-TTA-CTAACTAC-GGATCG-ATAG--CAAG-TCCC-AACT-T-----TCGGCATAGGC--A-GACTAG-GT-CC-ATCGTGTT-GTTG-AT-ACGGGT-G-AAAGATAAAAGATAG--G-C-TGT-CCTTGCTGAT-TC-AAG-T--AT--TTGCATGCTCC-CT-C--CGT-AATG-ACCAGCTA-TA-CTCAAC---G--G-A-GGTACTACATGC--GCCTTCATTTTC--GAA-C-A-AGCAA-TTAATCG-CGACAATA-GCA--AACCC-TGA--C-ACTCT-CTCCCAGTAT--A-GTAGCA--A-ACT-GCAA-TAC\n",
      "TCAAAGAT-TGAAGCAC-GT-GT----CATCCATAGTGT-AGGC---GGGAT-ATGCCGACTA-T--T---GATG-TA-CC-TACACGGTT-C--TGATCGCGT-TGGA-GGAAT-TAT-GTTGTGAAAA-CCGATG-CCGGTTAATCG-CT--AGT--GT-C-CCTGA-GGTGGACCC-AGATCTCTCGCA-AG-GG-----GAACACG-TCATTGAGCATTACT--TTGTAGA--TAGGAGTG-AT-CAC-AG-TCA-CTGACTAC-GG-GCGTAAAG--CATG-TCCCGTG-TGT-A-A----GCATTGGC--AT-AGTAG-ATCCC--TCGTGTTCG-TG--TGGCGAGTGG--AAGTTAATAGAGAG--A-CTT-T-TCTTGCCGAT-TCAAAGCT---TC-TCG--TACCCC-CT-CT-A-TCAC-G-ACCTGCCA-TA-CTCAGC--GGCCG-A-AGTAC---AACC--GGGGACGTGTTC--GAG-C-A-A-TAATTTAGTCG-CGAGAA-AGGCA--CACCC-TGACGC-ACTAT--ACC-AGTAT--A-GTAG-A--ATATT-TCAAG-AC\n",
      "ACAAAG-TCCGAAACAC-GT-GT-G---ATCCATCGTGT-AGGC---CGTAT-GTGCCTAC-ACT--T---GATG-GA-CC-GACAGGGTT-C--TGATCTCGT-TGGA-GGAAT-TATGGA-ATGAAAC-CCGATG-CCGGCTAATCG-CTC-ACT---T-C-CGTGA-GGTGGACCT-GGATCTCTGGTA-TG-GG-----CCACACG-TCATAGAGCAGTACT--TTGTAGA--CAGGAATG-AT-TAC-AG-GCATCT-ACTAC-GC-GCGTAATG--GATG-TCCCGCG-GGT-A-A---C-CGTTGGC--AT-AGGAG-ATCCC--TCTTGTTCG-TG--TGGCGTGTGG--GGGTCAATAGAGAG--A-CTT-T-TCTTGCAGTT-TCACAGCTA---C-TCG--T-CCCCACT-CT-A-TCAC-GT-GCTGCCA-TA-CTC-TC-GGGCCGTA-A-TACG--A-CC-AGG-GACGGGTTC--TAC-C-A-A-AAATTTACTCG-CGAGAA-AGCCAC-C-CCC-CGACGC-ACTAT--ACC-AGTAT--A-GCAG-A--ATATT-TTAAGT-C\n",
      "GCCAAG-TCCGCAACACT-TA-T-GC---TCCCTTG-GG-AAGC--ACCT-T--TGCC-ACTA-T-ATA-GGGTG-GA-TC-GAAAGCATT-C-TT-ATCTCGT-TAGA-GGGATCGA-GCA-ATGGAAC-AGGATC-CCGGCTAATGG-CTC-ACT---TGCAC-CAA-G-TGCCCCT-AGTTCTCTTGTA-TG-GGA----CC-TA-GCTAATAGAACCGTA-TG-TTGTAAAC-CA-GC-TGTAT-TAC-AT-GCTTCT-TCCCC-GT-GCGTCATG--GAAGAGCCAG-GCGTT-A-AG-GCACG----C--CTCATG-G-A-CCCA-TCTCGTTCT-TG--TGTCCTGAGGT-GTTTC-AGGGAGAG--A-GTTCTG--TCCCAGTTA-CACTGCTA---C-TCG--T-CCCTACT-CT-A-TTAC-GTGGC-ACCA-TA-CTA-TCTG-GTAG-ACA-TCCG--A-CC-TGGTGA--TGTTCA-AAC-CTA---AAATTTACTCG-CGAGAATCG-CAC-CTCCCA-G-CGCGA-AAT--GCC-A--ATCAA-GCGG-A--ACATTCTCA-GT-T\n",
      "GCCAAC-TCCTCAAAACT-TATTAGCTG-T-CC----GG-AA-CAAACAT-C--T-CC-A--ATTGACA-GTGTG-AA-TA-GACAGCGTT-C-TTAA-CACAT-TGGA-GGGTTGGA-CCA-AAAGAAC-AGGACC-CCGGCT-AGGGACTCG-GT--CTG-ACT-AA-GTTGC-CCT-CCTTCTCCGGTA-TGC-GA----CC-TA-GCGAAGAAAACAGCA-TGCA-GTGAACA-A-GC-TTTTT-TTC-GT-GCTTAT-TCCCC-TT-GAATCGTG--GAAGAGCCAG-TCGTT-ATAG--CACG----C--CTC-TG-GTA--CCACTTTCGATC--GGC-TGTCCTGAGGT-ATTTC-GGGGAGAGC---GATCAG-A-CCCAGTTAG-TCTGC-A--GC-TCG-A--GCCTACT--TAA-CTACGGT--CGATCA-TAGC-A-TCTGCA-AG-ACA-TCCG--A-CCTT-GTTA--TGGGCATGGC-C-A---CACGTCACTCG-CGATTCTAG-CAC-CT-CCATGAC-CG--AAT-AGCCGA---TCAA-GTGGCACGGCA---T-ACGT-A\n",
      "ACCAGC-TCCT-G-AA-TCCATAAG-AGTTCCCT---GG-CA-CAATCAT-C--T-CC-A--ATTGA-ATGTGTGTAA--A-TACAGCTTT-C-TTAAGC-GAT-TCGA-GGGTTGGA-ACAGAAA-AAC-ACGACC-CCGGCT-AGCGACTTG-GT-CCT--ACT-AC-GTTACA-AT-CCTTCTTCGTTA-T-CGGA----CC-TA-GTGATCAAGACAGCA-TACA-TTTAACAGAC-CGTTTTTCTT--G---CAGAT-TCCCC-TT-GGA--GTGCATAAGAGCGAG-TAGTTC-CAG-A-ACG----CGACT---GCG-A--TCACTGCCGA-CT-GGC-TGTCCTGAGCTCA-TGC-GTTTCGTGC-T--ATC-GTATCC-A-TTGGCCCTTC-A--GC-TCGAA--G-CTACT--TAA-CGACTGT-G-GATCA-TAAC-A-TCTACA-AGAA-A-T-TG-TA-CCTTCGG-A--TGGGCATGCC-C-A-T-C-CAACACTCGA-GATTCT-GATAC-CTGCC-TGAC-CG--ATTC-GCCGA---TGAA-GTAGCACCGCA---T-ACGT-A\n",
      "AGCAGC-TGCT-GAAA--CCATAAT-TGTTTCCA---GG-GA-GATTCAA-G--T-GC-AG-A-TGA-ATCTCTGTGA--A-TACGGCTTT-C-TTAAAC-TTT-TCGC-TGGTTGGA-ACAGATA-TAC-ACCAAC-CCTTCT-AGCCAATTG-GT-CCT--GCT-AT-ATTA-AGGT-CCTTCTGCATTA-T-CTAA--G-CC--G-GTGATCCTGACAGCA-TCCAGT-CAAAAGACACG-CTTAC-T--GC-CC-GAT-TCCCC-TT-GGA--GTGCTTCACATCAAT-TAGTTC-CAGTACACG-CC-CG-CTA--GCA-A--T-AC--AC-A-AT-CGCG-GTCCTGAGCTCC-TTCAGTTT-GTGC-T--ATG-GTATCCGACTC-G-CC-TC-AT-GT-TGGAAT---CTACT--TAA-CGAGTGT-G-GATCAGT-AC-A-TGTAGA-A-AATA-T-CG-TA-CCTTCGGAA--TGGTCACG-A-T-A-T-C-CGACGCTCTAC-ATACA-GATACACT-CC-TTAA-CG--ATAC-ACCGA--CAGAATCTA--ATCACA---T--CCTGA\n",
      "GGCATC-TGCT-GAAAC-CCGCAA--AGCTTCCA---CA-TA-GATGCAC-G--T-GC-AG-A-TGT-ATCGCTGTGA--A-TACAG-TTTACTTT-AAC-TTT-TCGA-TGGTTGGA-AAAGATA-AAC-ACCAAC-GCTTCT-AGCCAATTG-GT-CCT--GCTG-T-ATGG-AGTT-ACTTCCACATTA-T-CTAA--T-CC--G-TTAATCCTGACAGCA-TCCACTGC-GAACACACG-CTT-CTT--TC-CCAAATAAACGC--T--GA--GGGCATGACTTAAAC-TAGTTC-AAGTACCCG-CT-TG-CTA-TTC--A--T-AC--AC-A-AT-CG-GAGTGCTTAGCTTT-TTTAGTTT-GTGC-T-CA-C-GCAGCCGGCGC-G-CC-T--TTGGT-TGG-CT-A-CTAGT--TAAT-GTGTTTCG-G-TCGGG-GC-A-CCTACA-A-AAT--T--GATATCCTACGGAA--TGGTCACG-A-T-A-T-C-TGACGCTCTACGA-CCA-GATACACT-CC-TTAA-CG--ATAC-ACCGAT-C-GAATCAA--AACA-AG--T--CCCGA\n",
      "CGCATC-TGGT-G-AACTCCACCA--AGCTTCCC---CC-CA-GATGCAC-A--T-GC-AG-G-TCT-AACCCTGTGA--G-TAGAG-GTGACTTTCTA--TTT-TCGA-GGGTAGGA-TCCGATA-AAC-ACAAAC-GCAGCT-AGTC-A-TGAGTATCA--GCCGCT--TGG-ACAT-ATTTCTACAGGA-T-C-AAGGT--C--G-GGACCCCCGACAGTA-TCTACTGC-TCAGTCACG-CTT-CTT--TC-CCAAATAAACGC--T--TA--GTGCAGGAGTCAAAC-TAAATCTAA-TACACGCCT-T--AAA-TTC--A--T-CC--AC-C-TT-CG-CAGTGCTTCGCTCT-TTTAGTCG-GT-CAT-CA-C-GCACCCGGC-CTG-CC-T--TGGGA-CCG-CT-A-CTAGT--T-CTCCTGATT-GAA-TCCGG-GC-A-CCTA-ATA-AAT--T--GATAACGTACGGAA--TAGTCGCG-A---AGC-C-GGACGCGCTACGA-AAA-GATACAAT-TC-TTAA--GC-ATACAACTG-T-C-TAATCGA--CAC--TGA-C--CCCGA\n",
      "Score of aligned sequences = 11333\n",
      "The aligned sequences are saved in output file. Printing them here as well:\n",
      "A----TAT-TGCTGCAGCATTT--C-TCGA-CCCGCACAGC-CCGGGATG---AGGCGTT-G-------GT-AATACCGTGCGTCAT-TCCT-CAAAAAAT-CTCTATGA-GCATCCT--ATCT-GGGCAATCTGTTC--T-GTC-GCA-GGT-GGT-TG--ACC-GCGAGATTC-CCCAAG--TGGGAT-CAA-TCGA--TCTGTACGCTAAAT-ATCCCC-AT-TATACT-CGA--GGATG--ATCCTAC--TA-C----AGCATCACTT-CACGC--CGGGACGC-AGTAAAGTTACG-TAGCA-A-GGCTTCCCCCG---CT--AAGGCTAGGC-TGCTGTTGC-CG-TCAG-GC-TA-CC-CTACGTTC-TTCCACCTGACCACCAG-G-TACCA---CACAG-G---G-TGCTTG-GACC-CAA-GAATAAGTACTTTCTTGGCCG-TTAAACAACG-CCA-TGGC--G-T-C-G-A----AAGTCACTAAATATTGA-CACTAGATGG-G-GTTCA-CATG--GCAAC-CG-GT-GCCGGT--GA-GGGCAGGGGT-CTTAGGTCGCTC---AGT-ACCCTCTAAA----CAGGT-TTAACTACTACCATTGGCGT-AGGCCT\n",
      "A----TGT-TGTTGCAGC-TTTA-C-GGGATT-CGCACATC-CCTCGA-GC-AAT-CGTT-G-T------T-AACACTGGGCGTCGT-TCCTGCATAAA-T-CTCGATGA-GCA-GCTG-TTCTAA-GCTATCTGTTC--TA-TC-GTA-GAT-GGT-TG---CCGGCGAAATTC--GCGAGT-TAAGAT-CAAGT-GA--TGAGTCCACTATAT-ACCCCCG-T-TCTATTGGGA---AATG--GGCCTAC---ACCT---GGGTTC-GTTCC-CGCG--GGGACGC-AGCAGAGGTACGCT-GCA-ACG--AT-ACTCGA---TAGAAGCC-AACCACGCTGGTGCT-G-TCAG-GC-TAGCCT-T-TGTTCTTT-CACCTGATGACCAG-G-TA-CAT-TC-CAG-G---GTTGATTG--TCCA-AACGACT-TGTGCTGTAATGACGG-CTAAACCACGCCCAGGGGC-GGAT-CGGCA-----AG-GGCT--AT-TT-AG-ACGAGTTGG-G-GTTCA-GACG-TG-AGC-CG-GT-TCCAAT--TA-CGGCACGGGT-CTTAGGCCGCTC---AGTGA-CCTCCAAA---CCAC-TC-TAACTAGTACCATCGGCAT-TTGCCT\n",
      "A----TGTATGA-ATAGC-TCTA-CA-ATATT-GGCACATC-CTTCCA-CC-AAT-CGTT-G-TA-G---T---CAGTGGGAGTCGT-GCGTGCATAAA-T-CTCGACGA-GGA-GC-GACTCTAAC-CAATGTGTTC--AAC-CGGGA--AT-GGT-TGAT-ATGGTG--ATTC--GCGAAT-TTTTAT-TACGC-GACC-G-CTCCACTATATGA--GCTGATA-CTGTT-ATA--GA-TGA-GGCATAC---ACCTA--GGG-CC-CTTCCA-GAG--GAGA-GCAAGCCGTGGTACGCT-GCA-ACG--AG-ACGC-A--GTTCACGCCTA-CCACGCCCGTGCT-G-TCAGC-C-TAGTCT-T-TGTTGTTT-CACCGGGTAACCTG-G-TA--TTATC-CAG-GC---TCGACCG-A-CCA-AACGTCG-AGCGCTGTTAGGATGG-CTGAGCCTTGGCCAGGGACAGG-T-CGGCA----GGG-GGA---AT-TT-GGAATG-G--GGAGAATTCA-TATGTTC-A-CA-G-GTG-ACAAT-G-ATC-CCAAGGAT-CATACATCGCAC-GGAG--AGCGT--AAAG--CAAC-TC-TGCCTAATCCCATCCGCAT-GTGCTT\n"
     ]
    },
    {
     "name": "stdout",
     "output_type": "stream",
     "text": [
      "A----TGTAGGA-AAAGC-TAAACCA--TATT-GGCACATC-CTTGCA-CC-A-TGCCTT-G-TA-G---T---TAGTAGCAGTCGT-TCGTGCATAAA-T-CTCGAGGA-GGA-TT-GACACTCAC-CTATGTGTTCG--GCA-GGGA--AT-TGT-TG-TGATGGCC--AATC--GCGAAT-TTTTAT-TACGC-GACCTG-C-CGACTATGTGA--CCTGCTA-CTGCG-AAAC--A-TGATG-CCTAC---TCCAA--GGG-CC-CATCCA-GAG--GTGA-GCACGGCGCGGTACGTT-GCA-ACG--AG-TCGC-AT-G-TCGCCCCTAGC-ACTTCCGTGCT-G-CCA-C-CAGAGT-TATAGGT-GTTTG-ACTGCCTGACC-G-GATA--TTCTT-C-GCGC--AT-GGCCG-ACCCA-C-CGTAA-AGCGTTGTGAGGATGG-GTGAGCGTTTGCCAGCGACAGG-T-CGGCA----AGG-GGA---AA-TT-CG--TGTGT-GGAGAAGTCAC-ATGTTC-A-CA-G-G-GTCCAAT-G-TTC-ACTAGG-TACATACACCGC-CAGGAGCC--CGT--AAGG--C-ACGTC-TGCATACTCCCATCCGCAT-GTACTG\n",
      "A---G-GTAGGA-GAAGC-TAAA-GAG-TATT-GGTATAAC-CTTGGT-CC-A-TGCCTT-G-TA-G---T-G--ACTCGCAGTGGT-TCGTGC-CAAACT-GTCGAAGACG-A-TT-GACACACAC-CTATTTTTTTG--GCA-GGTA--AT-CGT-TG-TGATGGGG--GATC--GCGAAT-TTTTATCCATG--GAACTG-C-CTAATAAATGA--ACTGCTA-CTGAG-GTAC--A-TGCTGT-CTAC---TCCAAC-GGG--C-CTTCCA-GAG--GTTA-GCTCGGCGCCGTACGTT-GTA-AAG--AG-TCG--ATGG-TCCCCCCTAGC-ACTTCCGT-CTAG-CCA-C-AATAGT-TATAGGT-GTGTG-ACTGCGTAACC-G-GATA--TTCTT-C-ACGCTT-T--GCAG-ACCCA-CTC-TAA-AGCGTTGTGAGGATGGCG-GAGCGTGTGTTAGCGATAGG-TA-GACA--T--GG-GGAT---A-TT-CGA--GCCT-CGAGAAGCCACGA-GTTC-A-CACG-G-ATC-AAT-GAA-C-ATTAGG-TACATACGCCGC-CAGCATCC-GC-T--AAGG--C-ACGTCTTTC-TACTCCCATCCGCAT-GCACTA\n",
      "A---G-GTAAGAC-AAGC-TAAT-GAG-CATT-GCTATAACT-TTGGT-CCAA--G-ATT-GATA-G-C-TAGTTACT-G-A--GGTGT-GTGC-CCAACT-ATCGAAGTCG-A-TT-AACACAGAC-GTA-CTTATTG-ACCA-AGTA-T-T-C-TACG-TGATGGAG--GA-C-TGGGAAT-TCGTATCCATG--GGCCTG-C-CCAACAAATGA--AGGGCTA-CTCAG-GTAC--A-TGCTGT-CTACAA---CGTC-GGG--A-CTGGGA-GCGC-GGT--GCTAGGCGCCGTTTGAT-CTACA-G--AG-TAG--ACGG-T-TTCCTTTCCAACTTCCGT-CTAG-CCA-CTA-GAGT-TCTAGGT-GTATG-CCTACCTAACC-G-GATG--TTCAG-A-AC--TTAT-CGCAG-ACCCAG-TC-TCA-AGCGTTGTTATGATGGCG-GAGCGAGCGTTAGCGATAGC-AAC-ACA--T-CGG-A-AT---A-TT-CCA--GCCG-CGAGTTGCCACGA-GTTG-A-CACG-A-ATC--ATCCAA-C-ATTAGG-AAGACACGGCGC-CAGCA-CCAGC-T--AAGGC-C--CTTCTTTC-GACTACCGTCTGC-TACCACTA\n",
      "AT--G-G-AAGACG-ATCGGATT--AGTC-TTAGGT-TAACTCA-GGT-CAAAC---ATT-CA-ACG-CTTA-TTACT-G-A--AATGT-TTGCG-CAACT-CTCGAAGACG-G-TT-AACACAGCCAG-G-CAGATTGT-GCA-ACTACTGT-A-TTC--A-ATTCA---GA-C-CGGGAATCTCGTATCCATG--GGCGTG-C-GCGAGAAATGA--AAGGCTA-CTCCT-TTAC--AC-CCTGTG-TA-AAC--CC-CAGTG--A-CTCGAATGT-CAG-C--GCTAAACCCCGTCCGAT-CTA-ACG--AA-TCC--ACGGCA-T-CCTTTCCATGATCCGG-ATAG-CCA-CTATAAG--TCTGGGTGGT-TG-CCTACCTTATC-G-GATG--TTCA--A-CCA-GTAT-CGCAG-AATCAG-TC-ACA-AGCGTTATTACGATAGCG-GAGCGAGGGTTAGCGA-A---AACTACA-CTCCGG-AC-T---C-TA-CCA-TG-CA-CAAATTGCCGCGG-GATG-G-CAAG-G-AGCA-AT-CAACC--TTAGC-AACACCCGGCCC-CAGAA-CCAGCGT---A-GC-CT-ATTCTTTC-TAATACCGGCTGC-CGCCACTA\n",
      "AT--G-T-CTGA-GAATCCGATT--AGTC-TTAGGT-TCATTCA-GGT-CCATCGT--TT--T-A-GAAATA-TGACT-G-A--GTTGT-TTGCGTCAA-T-CTAGAAGCCG-G-TT-AACATGGCCAT-G-CCGATCGTCCCACAC--CCGTAA-GT---AT-TTTA---GA-CAC-GGAATCGCGCATCCATG--GGCG-GTC-ATGAGAAAACA--AAGGC-AGCGCCT-TGGCGGTC-TCTTTG--A-CAC--CCA-A-AG--A-GGCGAATGT-AAGTC---CTAAAGCCCGTCCCAA-CTT-ACG-TAA--CC--ACGGCA-T-CCAGTCCATTATCCGG-TTAGT-AA-CGATAAG--TCTGGGTGGA-AGAGGT-CCCTA-C-GCGCTG--TTCAG-A--CG-GTAT-CACAGTAA-CAGAT--ACA-AGTGGTAATACGATAGCT-GAGCGTGGGTAAGCCA-A---ACCTACA-ATCC-G--CTT--GC-TG-CCA-TG-CA-AAAATTGCGGCGG-TACG-G-CAAG-G-AT-ATGT-CAACC-AT-AGT-AACAGCCTACCG-CGGAA-CCAACGT---A--CACTCCT-ATTTC-GAATACCGGGTGCAC-ACACTA\n",
      "AT--G-T-ATGA-GAATCCAATT-AAG-C-TTAAGT-TCAAT-ATGTT-CCAT--T-ATT-GT-A-GAAATC-TGTCT-G-G--GTTGT-TCGCGTC-A-TCCTAGAATTCGCG--T-AACATATCCAT-A-CCGTTAGTCCAACAC--CCGTAA-GG---GT-TTAA---GG-CAC-TGAATCGAGCATTCATT--GGAG-G-CGATGAGCAAACA--AACGC-AGAGACT-AGGCGGACG-CTTGGCCA-CCCTGCCAGATAC--A-GGC-AAT-TCAA--------AAACCCCGGCCTAA-CTC-ACG-AAA--AC--TCGGCA-TACC-GTCCATTATCGGG-TTTGTGAA--GATAAG--ACTGGGTGGT-AGAGGA-CGCTA-C-GCGCCA--TTCAG-A--CG-ACAT-CAGAGGCA-CAGGT--ACA-CGCCGTAATACGATAGCT-GAGCGCGGGTAAGCCT-A---ATCTA-ACAGCA-G--CTT--GC-TG-CCA-TT-CA-AAAATTACGTCGG-GACG-G-CAAGA--AT-CTGT-CAGGT-ATCA-T-TACAGTCGACCG-CGGAG-CGATGGA---A--AAATCCT-ACTTC-CACTGCCGGGTGGAT-ACCCTA\n",
      "ATGCGCT--TGA-G--TCCTATT-AAG-C-TGAAAT-TCGAC-AT-TT-GCGTA-G-ATTAG--C-GAAATC-TGTCC-G-G--GTTGT-ACGCATC-A-TCCTGGAATTCACG--T-AACATTTCAAT-A-ATGTTGGTCTAAC-CG-CCGTAA-TG---GTGTT-A---TG-CAC-TGAATCGATCAGTCAGT--GGTG-G-CCATAAGCAAACC--AAGGC-GGAGACT-AGGTGG-CGTCTCGGCAA-CTCTGCCAAATAT--A-GGC-CAT-TGAG--------AAACCTGGGCATAA-C-G-AAGTACA--AC--TCGGTA-TACC-GTCGATGATCGGG-TTTGGGAA--AATAAG--ACTGGGTGAT-AGAGGA-TGCTA-C-GCACCA--CTCGG-A--CA-ACCT-CAGAGGCA-CAGGT--AGA-CGCCGTGATCCGATAGCA-GTGTGCGAGTAAGCAT-A---GTTTA-CCAGCA-G--CGT--GT-TG-CCA-GT-CC-AAATTTACGTTGG-GTCT-G-C--GAC-ATGCTGT-CAGCT-ATCA-C-TACAGCCTACCG-CTGCG-CGACGGT---A--AAAGCATGA-TTC-CACAGCCGTGTAGAT-ACCCCA\n"
     ]
    },
    {
     "data": {
      "text/plain": [
       "10-element Vector{Any}:\n",
       "  1008\n",
       "  2245\n",
       "  3381\n",
       "  4263\n",
       "  5416\n",
       "  6561\n",
       "  7594\n",
       "  8717\n",
       "  9673\n",
       " 11333"
      ]
     },
     "execution_count": 77,
     "metadata": {},
     "output_type": "execute_result"
    }
   ],
   "source": [
    "# get ACO scores\n",
    "\n",
    "scores = score_ACO_vs_GA()"
   ]
  },
  {
   "cell_type": "code",
   "execution_count": 79,
   "id": "ed3fc9aa",
   "metadata": {},
   "outputs": [],
   "source": [
    "# get GA scores\n",
    "\n",
    "ga_scores = [];\n",
    "\n",
    "f = open(\"GAscores.txt\")\n",
    "f = readlines(f)\n",
    "\n",
    "for str in f\n",
    "    str = parse(Float64, str)\n",
    "    floor(str)\n",
    "    push!(ga_scores, str)\n",
    "end"
   ]
  },
  {
   "cell_type": "code",
   "execution_count": 80,
   "id": "69885933",
   "metadata": {},
   "outputs": [
    {
     "data": {
      "text/plain": [
       "10-element Vector{Any}:\n",
       "  1322.0\n",
       "  2461.0\n",
       "  3598.0\n",
       "  4736.0\n",
       "  5877.0\n",
       "  7016.0\n",
       "  8155.0\n",
       "  9295.0\n",
       " 10435.0\n",
       " 11575.0"
      ]
     },
     "execution_count": 80,
     "metadata": {},
     "output_type": "execute_result"
    }
   ],
   "source": [
    "ga_scores"
   ]
  },
  {
   "cell_type": "code",
   "execution_count": 83,
   "id": "a1e7bb16",
   "metadata": {},
   "outputs": [
    {
     "data": {
      "text/plain": [
       "plot_score_ACO_vs_GA (generic function with 1 method)"
      ]
     },
     "execution_count": 83,
     "metadata": {},
     "output_type": "execute_result"
    }
   ],
   "source": [
    "function plot_score_ACO_vs_GA()\n",
    "    x = collect(50:50:500)\n",
    "    # different length sequences\n",
    "    plot(x, [scores, ga_scores],\n",
    "        title = \"ACO Scores vs GA Scores for 10 sequences\", \n",
    "        label = [\"Score by ACO\" \"Score by GA\"]\n",
    "    )\n",
    "    xlabel!(\"Length of Sequence\")\n",
    "    ylabel!(\"Scores\")\n",
    "    savefig(\"plot_score_ACO_vs_GA.png\")\n",
    "end"
   ]
  },
  {
   "cell_type": "code",
   "execution_count": 84,
   "id": "cd422d74",
   "metadata": {
    "scrolled": true
   },
   "outputs": [],
   "source": [
    "plot_score_ACO_vs_GA()"
   ]
  },
  {
   "cell_type": "code",
   "execution_count": 85,
   "id": "cb713fda",
   "metadata": {},
   "outputs": [
    {
     "data": {
      "text/plain": [
       "time_ACO_vs_GA (generic function with 1 method)"
      ]
     },
     "execution_count": 85,
     "metadata": {},
     "output_type": "execute_result"
    }
   ],
   "source": [
    "function time_ACO_vs_GA()\n",
    "    elapsed_times = []\n",
    "    for i in 1:10\n",
    "        input_file = \"input\"*string(i)*\".fasta\"\n",
    "        output = \"time\"*string(i)*\".fasta\"\n",
    "        input_sequences = generator(50*i, 10)\n",
    "        write_to_file(input_file, input_sequences)\n",
    "        result, elapsed_time, bytes_allocated, garbage_c_time, mac =  @timed driver(input_file, output)\n",
    "        push!(elapsed_times, elapsed_time)\n",
    "    end\n",
    "    return elapsed_times\n",
    "end"
   ]
  },
  {
   "cell_type": "code",
   "execution_count": 86,
   "id": "c0ae82eb",
   "metadata": {},
   "outputs": [
    {
     "name": "stdout",
     "output_type": "stream",
     "text": [
      "Score of aligned sequences = 1175\n",
      "The aligned sequences are saved in output file. Printing them here as well:\n",
      "--TGCCCGCA--AGCTGCAATT-TTCTGTCGTGTTCGT-GTC-CGGATCA-AAGC-CGT\n",
      "--CGCAGGCAT--CCAGCAATT-ATCTGTCAAGCTCGT-GTC-CGAATCACA-CC-CTT\n",
      "-TAG-AGGCAT-A-CATCAATT-TTCTGTCAATCTCGT-GTC-CTATTCACA-CC-CCT\n",
      "-TAG-AGGTAT-A-TAGCAATTGT-GTGTGAGTATCGT-GTC-CTATTGTCAGCC-CC-\n",
      "-TAG-AGGTAT-A-TAGCCATTGT-GTGTGAGGATCGT-GTC-GTATTGTCTGCCAC--\n",
      "-TAG-AAGT-TCA-TAGCCGTTGT-GTGTGAGGAT-GTGGTC-GTGCTGTCTGGTAC--\n",
      "-TGG-AAGT-GCAGC-GCGGGTGT-TTGGGGGGATAA-GGGC-TTGCTGACTTGTCC--\n",
      "-TTG-AACT-GTAGC-GCGGTTGTATT-AGGGGACAACAG-C-TTGTTGACTTG-CCA-\n",
      "GTTG--ACT-GTAGCTGC-TTTGCGTC-AGGGGCCTACTG-C-TTATTGAATAGCCC--\n",
      "GTCG--ACA-GCAGCTGC-TTCGCGTC-GGGGGTCTAC-GACAGT-TTGAACA-CCCA-\n",
      "Score of aligned sequences = 2010\n",
      "The aligned sequences are saved in output file. Printing them here as well:\n",
      "C-TA-GATAGGAA-C-CGTC--C-TCTT-A-CC-G-GC-GCCG-TAC-ATTGCCCTTTGGTAA--GTCCAAC-CATTT---GA-GTC-CA--AGCGGG-T-T-TACCAGAGGACAAGAATTTC-GTT-C\n",
      "A-TT-GACAGAAACC-CG-C--G-GC-G-ACCC-G-GC-CCCG-CGC-CGTGTCGTGTGGTAA--GTACTAC-CATTT---CA-GTC-CA--AGTGCA-TCTCTA--AAAGGACAAGATTTTC-CCT-C\n",
      "ATTT-AAAAG-AACC-C-CC-AG-G--G-ACCA-G-GC-CCCG-CGC-CATGACGTGTGGTCA--GTACT-CTCATTA---CC-GTC-GA--AGTCCA-GATCTA-CAAAAG-CAATATTTTA-CCT-A\n",
      "ATTT-AAAAG--ACC-CCCC-AGCG--C-A-CA-A-GC-CCCA-CGC-AATGACTTGTGTTCT--GTACT-CTTATTA---GC-ACC-GA-TA-TCAA-GATCTA-CACAA-CCAATACGTTA--CTAA\n",
      "GTTTGAAAA---ACC-ACCC-AGCG--C-A-CACG-GC-CTTT-C-A-AATTAAATGGGTTCT-CG-A-TTCTAAATA---GA-ACC-GA-TA-T-AATGTTCTA-CACCA-CCAGTGC-ATC-GCTGA\n",
      "GTTAGACAA---CCCTA-CG-AGCG--CAAAC-CGATC-C--C-CCC-AA-TAAAAGGGTCCTAC--A-TGATAAA-AG--GA-AGC-GA-TA-T-AACGTTCT-GCACC-CCCCCTGC-A-CAGCTGA\n",
      "GGTAGAGGA---CCCTA-CT-TCCG--CAAAC-CG--C-AAGC-CGG-GA-TAACAGAGTCATAC--A-TG-CACA-AG-TGA-AGC-GA-T-GT-AGCATCCT-G-TGCGCCCCATGC-A-TAGCTGA\n",
      "GGGAGAGGA---TCCTA-AT-TCCG--CGAAC-CG--CGAGGCAC-C-AAAT-A-AGAGTCATAC---GTG-CA-AAAT-TGATA-C--A-CAG-GAGCATCCT-G-TGCGCTGGATTC-A-TAGCCGA\n",
      "GGGACCGGA---TCCTA-ATGT-TG--CGAAC-AG--CCAGGCTC-CTAAA--A-AGGGTCAAAC---GT-TCA-ACATCT-ATATT-GATGAGCGTGC-TCC-----GCGCTGGAATC-A-CAGTCGA\n",
      "GAGACCGGA---TCTTACA-G--AG-ACG-ACCA--AACAGGAT-AGTTTA--A-AGCGTCATAC---GT-TGGGA-GGCT--TTTTCGATCACCGTGC-TCC-----GCACTAGCAT-TA-CTGGAGA\n",
      "Score of aligned sequences = 3278\n",
      "The aligned sequences are saved in output file. Printing them here as well:\n",
      "CA-G--CAAAGAA-TC--CTAG--GTGGACAAGAAC---CTCGGCTCAT-GGA-AAGTTGA-CTGACC-TG-C-CCCCA-TCGA-GG-CCCGCGCATGAGCGG-TC-CTC-TTAAG-AAACCAGTGA-TTTG-CACA-TCAGAAGGCGGGTAATCGA----TATACCA-T----TATATTATCACG\n",
      "CA-G-CCAA-GAAC-C--CTAG--GTGGAGAAGAAC---CTAGGCTTAT-GGACTA-TAGA-CTG-CCGTGAC-C-CGA-CCGA-GG-CCCGCGTTTGAGCGG-TC-CTCATT-AGTA-ACCAGTCAGTT-G-CACA-TTAGAATGCGGGCGTTCGA----TATTCGA-T-G--GA-ATAATCGCT\n",
      "CA-G-GTAA-GAAC-C--CTCG--TTGGTGACGAAC-G--TACGCTCAT-GCACGA-AAGA-CTG-CCGTGAC-C-CGA-CCGAGGGACCC--GTTTTAGCGG-AC-CTCTTT-AGTA-AATAGTCAGTTCGTCA-A--TAGTATGCGGCCGTTCGA-C--T-TTCTA-T-G--TC-ATAAACTCT\n",
      "CA-G-GTAA-GTACGC--C-CG--TTGGTGACGCAC-G--TACGCAC-TGGCATGA-AAGAG-TG-AAGAGAC-CA-GAGC-GAGGG-CCCA-GTTTAAGCGG-AC-CGATTT-AATAC-ATAGGCAGCTCGTGA-A--TAGTAGGCCGCCG-TC-AGC-GT-CACTA-T-GC--C-ATAGACTCT\n",
      "TATG-G-AAC-TACAC--C-CG--ATGGTGACGC-C-G-TTCCGCACG-GGCATGA-AAG-GATC-AGGAGACG-A-TTGC-TTGGA-CCAAGGTTT-ACCGGTCCTC-C-TA-AATAC-CTCGGCCGCACGT-A-AG-TAGGAGGGCACCT-TC-TGC-TT-CAGTA-T-GCG-C--GACACGCT\n",
      "--TGAG-CACATACAC--C-CG--ATGATGATGC-C-G-TTCCGCACGC-GCATGA-AAG-GAAA-ACGAGACG-A-TT-CACCGTC-CCAAGGTTG-ACCGGTC-TCGCGGA-A-TAC-CTCGGTCGCACGT-A-AGCG-GGAGGGCTCCT-TC-TGC-TT-CAGTA-TGG-GA---GAAACACT\n",
      "--CGCT-CACACA-AC--C-TGT-AGGATGTTGC-CGG-GT-CGCACAC-GCATGA-ATG-TCCA-ACCCGA-GTA-TT-CACCGTC-CCAAGGTTG-ACCGGAC-TAGCGGA-A-TACG-GCAGTAGCACAT-A-ATAG-GGAGCGCCCCT-AC-TTC-TT-CCGTATTGGTGA---GA-CC-CT\n",
      "--TGTT-CTCATA-AC--A-TAT-AGGCTCTTGA-TGGCG--CTCACAC-GCGTGA-ATG-TACG-ACCCAA-TTA-TT-CACCATC-CCACGCTGG-ACTGGAC-TAGTGGA-A-TACGAG-AGTTGCACTT-T-AGAG-TGAGCGGCGGT-AC-TGC-GC-CCGTCCT-G-GA---GATCCTCA\n",
      "--TGAT-CTCAGC-AC--T-TAT-AGGCGCTTGA-TGGAG--CTTATAC-CCGTGT-ATG-TTCG-ACAGAA-TTACTT--ATCATA-CCACGCTGA-ACTGGAC-TAGTCGA-AGT-CGAG-AGTTGCCCTA-T-AGCG-TGATCGTCGTT-TC-TGC-AC-CCGTGCA-G-GAC--G-TCCTCA\n",
      "---G-T-AAC-GC-CCGGC-TATGCGGCTCTAGC-TGGAA--CTTATACGCCG-GT-TTG-GACG-CCAGTA-TTTCTG--ATCATC-CCACGCGGA-ATTGG-CTTAGGAGT-AGT-CGGG-TGCTACCCTA-T-TTCGACG-CCCTCGAC-TC-TGCGA--CGGTGCA-G-GAC--T-TCCTAA\n",
      "Score of aligned sequences = 4603\n",
      "The aligned sequences are saved in output file. Printing them here as well:\n",
      "---TTCAC-CCGTTACATA-TTACCCGGTCCAG--CTA--AAAAATACATC--CAGCGC--TGAA-GCCT-ACGCGA-ATAACT-TAC-AC-T-TA-A-CATGAATTGA-CTA--GAGGTTGTG-CATAAT-T-TTACAATCC-T-TGGTTGA-AGGTGCG-CGA--CCCGCATG-GGCGC---CCGAACAAAGT-ATTCTTG-ACTGGGATACCAAAAT-CATCTA-T-TTATCTG--TCA-ACC\n",
      "C--T-CAC-ACGTGAAATA-TTACCAGCTCCAG--GTATCA-AA-TACATC--CAGCGC--TGAAC-CCTAAC-CGA-TTATCT-AAC-ACGT--A-A-CATGAATAGA-CTA--CACTTTGTGT-AAAATGT-T-ACAA-CCAT-AGGTTAA-AGGTGCG-CGA--CCGGCTTG-GGCGCA---CGCACTGAGT-ATCCTAG-TCCGTAATACGAACGTCCTTTTA-T--TAGATG--TTAG-CC\n",
      "CT-T--AC-ACGTTAAATA-TTACCAGGTCCAG--GTACCA-AA-TGTTTC--CAGC-CA-TGAAC-CCTACC-CGA-TTATGTCA-C-ACGT--A-A-CATGAATAGA-CTA-CCCCTT-GTGT-AAAATTT-T-ACAA-ACAT-ATGTTAA-AAGTACGTA-AT--CGTCTTG-GCCTCA---CGTTCCGA-TGATTCTAG-ACCGTTAGACGCAGGTCCTTCTA-T-GT-GATGC--TAG-CG\n",
      "AT-T--GC-ACATTAAATA-TGAGAAGGTCTAG--GTACCA-AA-TGTGTC--CAGC-CAG-GGGC-CCTATC-AGA-TTATTTCA-CT-CGT--A-AGC-TGAAGACAGC-A-CCCCTT-GTAT--ACATTTAT-GCAA-GCATC-TGTTAA-AAGTTCTTA-AT--CGTCTTG-ACCTCA---CGTTCCGA-AGATCCTCGAAC-GTGAGACGCAGGGCCTTCTATT--T-GATCC--TAG-CG\n",
      "AT-T-GGC--CATTTAATA-AGAGACGGTGTAG--GTACCA-AA-TGTGTC--CACC-CAGAGGAC--TTATC-ATA-TTCTTACA-CTAC-T--A-AAC-TGAAGACAG--A-TCCCTTGGTAT--ACAATGAT-CCAA-GCGTCA-GTTAAG-AGTGATTA-AT--TGTGTTGTA-CACA---GGTTCCGA-ACTTCCTCTAAC-GTAAGATGCCTGATGTTCTATT--T-GATCC--TAG-GG\n",
      "AT-TGGGC-G--TCTAATA-AGAGACGGACAAG--G-A-CATAATTGTGTC--CACC-CAGAGGAC--TCATC-TTA-TTCCTACA-CGAC-T--ATC-C-CGAAGACTG--ATT-CCTAAGTAT--ACCATGAT-CCAA-GCTTCA-ATCAAG-AGTGACTA-AT--TGTGTTCTA-CACAT--G-TTGCGA-TCTCCCTCTATC-GTAACATTTCTGAAGTTCTCTTA---GAACCA--AGCG-\n",
      "ATG-GGGC-G--GCTAATA-AGAGACGGATAAG--G-A-CATAATTGTGTCTAGAC---AGAGGAC--TAATC-TTA-TTGCTTCA-CGAC-T--ATCTC-C-AAAACTG---TTGCCTTGGTAT-GA-TATGAT-CCCT-TCTGCA-ATC-AGAAGTGCCCA-AT--TGCGTTTTA-CACATG-GTTTGT---TCGCCCTC-ACCTGTATCATTCCCGAAGCCCTCATA-T-G-ACTAGGA--G-\n",
      "ATG-GGGC-G--TCT-ATACAGAGACGTAT--GCAG-A-CATAAGGGTGGCCAGCC--T-GA-GAC-ATCAGC-GAAGTGGC-CCA-TGAC-T-AAG-GC-C-AATTCTA---TAGCCTAGCTCT-TT-TATGATGCACA-T-TG-ACATG-ATTCGTTCCCATATG-TGC--TTTA-TAGATGCG-CAGTCC-TCT-C-TC-ACCTGTATGATGCCCGAAGCCCTTATA-T-T-ACTAGGA--G-\n",
      "A-GCGATC-GACTTT-ATAC--AGACGTAT--GCAG-G-CATGCGGGTGGCCTTCCT-T-G--GACGA-CAGC-GCAGT-GT-CCATTGGC-TC-CGAGCGC--A-TCTA---TAACCTAGCG-TAGT-TACGACGCACA-G-TG-GCAGG-AGTCGTTCCCATATG-TGC--TTAA-TTGATATA-CAGTCG-GCTGCGT---TCTGTATGATTCACGGAGAGCGTATA-T-T-ACTA-GAC-G-\n",
      "A-GCGAACAGA-TTT-A-CCG-AGACCT-TC-GGAG-G-AATGTGTGTGGCCCACTT-TCG--AAC-A-AAGC-GGAAT-GT-CCAGTCGC--CTCGAGCGC--A-TCTA---TACCCT-GGGCTTGT-GACCACTCACA-G-TG-CCATT-AGTCGGTCCCATA-GTTTC--TTAA-CTGAAATC-CAGTCG-GCTGAGT---TCTGTATCATTCACGGAGAACGCA-ATT-T-AC-A--ACAGT\n",
      "Score of aligned sequences = 5578\n",
      "The aligned sequences are saved in output file. Printing them here as well:\n",
      "-CCC-AAAC---CCCAACTTTCC-CC-G-GCTACGC--TTATCGCCGCC-A-ACA--CAGGT-CTGTG-C--G-GC-GGTAGGGGG-T-CAG-GGCGG-CGCT-CCAAGCGA--CATTTCG-GGTC---CCCTGGGTTC-CGAC-GTCCC--T-ATCGGTCAAC-CG-GCAA--TGGC----GTGAAGC-AGTGCCG-G-TATATTGTAGG-GTAC-AAA--CTAGCCTCCA-TCCTAA-GTCCG-G--TCTGTG-G-CTCCGGCTATTTC-AGT-TCGAT-T-AC--TGGGAC-CCTTAG-CGGAGCTTCGA-TGG-\n",
      "-CAC-AAGC---CCCAACTTTCC-CC-G-AATACGCG-TT-TCGCGGCC-A-ACA--CAGAT-ATG-GAC----GCAGGTAGAGGG-A-CAG-GCCGG-CGCG-CCAAGGGAC-CAGTT-G-GGTC---CCCT-GGTACGCGAC-CTCCC--T-ATCGGTGAAT-TT-GCAG--TGGG----GTGGAGG-ATTGGCG-G-TATATTGT-GGTGTAC-AAA--AAAGCCTGCA-TCTTAATG-CTG-G--GCTGTC-G-CTCCGGTTCTGTCGA-T-TCCTT-T-AC--TGGTTC-GCTTAG-CGGAGCTTCGA-TCG-\n",
      "TC-C-AA-C--AACCAACTTTCC-TG-GCCTTA-GGG-TT-TCGC-TCCGA-ACA-TC-GAT-ACG-GAC----GCACGTATAGGG-A-CTG-GCCCG-CG-GTCCAGGGGAC-CAGTT-G-GGTC---GCAT-GATACACGAA-ATCCC--T-ATTGGTGAAT-TTGGC-G--TGAG----GAGGTGG-ATTGTCGTG--ATATTG-CAAAGTAG-AAAC-AGGGTC-GCA-TCTT-ATCACTG-C--GCCGAC-G-AACCTATTCTGTATA-T-TCC-C-T-CCG-AGGTTCGGC-TCG-CGGATCTTCGA-CCA-\n",
      "--GC-TACC--GTCGGACTTTGG-TG-GCCTCA-GGG-TT-TCGC-TCCGA-ACA-GC-G-TGACG-GGC----GCAATTAT-GGGTA-CAG-GCCCA-CG-GTCCAGGGGAC-CAGTT-G-GGTC--AG-AT-TATACTCCTA-AGGCC--T-ATTGCTGAA--TT-GC-GTATCAG---AGAGG-AG-AGTCTCGAG--ATAAT-CCAACTTAT-CAAC-AGGGGC-GCA-TCGT-ATTAGTG-CG-GTC-AA-G-AAACTATGCTGTATA-T-TAC-G-T-CCGCA-ATAC-CCCTCG-CGCATCATCGA-ACA-\n",
      "---CATAAC--GTCGGTCTTTGC-TG-GAGTCA-GGG-AT-TCGC-CCCGAGA-A-GC--TTGA-G-GTA--A-GCGATAAT-GGGTC-CCG-G-CCATCG-GTCC-CGTCACTGAG-TCGTGG-C--AG-AT-TATAGTCGTA-CGGCCG-A-ATT-CAGAA--TT-G-TGGATCAG---AGAGG-AGAAG-CCCTAG--AAAAT-CCAAAATATGC-AC-AGGGGC-GCA-TCGT-ATTAGTG-TG-GAC-AA-G-AAACAAGGCGGTATA-T-CAC-G-TGCC-CA-GTA-TCCGTCC-CGCTTCGTCGC-ACA-\n",
      "---TGTGAG--GTATCTCTCTGCTTG-G-GTGA-GGG-A-CTGGC-TCAGGGA-A-GC--GTGA--CGTA--A-TCGAT-ATTGGTTC-GTG-G-GCGTAG-GT-CACGTGACTGA-CACGTGG-C-AAG--T-TCTAGTC-AACCAGCC--ATA-T--A-AACGAT-GGGGGATCAT---AGAGGTA-AAG-CCCT-G-GATAAT-GCAAAAGATGCGA--AGATGC-GCA-TGGT-CTAAATG-AG-AAC-TA-G-ATCCATCACCATTTA-T-CGC-GAT-CC-GA-GTA-TCTGTCT-AGCTTCGACAC-ATA-\n",
      "---TGTCAG--GAATCTCTCTACTTG-G-GTGA-GCG-A-CTGGC-GCAGGGA-A-GC--GTG--GCGTT--A-GCGCT-ATTAG-TCAGT--GTGCGGAG-GT-CACGAGTCTG-CCCCGTGG-CAAAG----GCTAGTC-ATCCAGTC--ATA-T--A-CACAAT-GGGGGCTTAT---AGAAATA-ATG-ACC-GG-GAAAAT-GTACAAGATGC-CC-AGATG-TGCG-TGG-ACCACATG-AC-AA-AGACG-GT-CTTCTCC--GTACTGCGC-G-GGGC-GA-TTA-GCTCTCT-ATCTTGGGCGC-GTA-\n",
      "---TGTCTG--GTAGCTCTATACTTG-G-CTGA-GAGAAGC--GC-GCACCGA-A-GC--GTG--GCG-T--ACGCGCT-ATT-GGTCA-TG-GTTCGGAG-GT-CACGAGTCTG-CGCCGTGG-TAAA----TGAAAGTC-ATCCA-TCG-AT-GT--A-CACAAT-GGCAGTTTAG---AGAAAT-GATG-ACC-GA-GAAAAT-TTAAAATATGC-CG-ACA-AATGCG-TGG-ACCACATC-AC-AA-AGACG-GT-CTTCTCC--GTACTGGGC-G-GGGC-GA-TTA-GCTCTCA-ATCTTATGCACTG-A-\n",
      "---TGT-AG-ACTAGCTCGATGCCTGAG--TCA-CACCAG--GGC-GCACCGA-A-GC--TTG--CCG-TAGACGC-CT--TT---ACAAAGTGTTGGGAG-AT-GATGGGGGTG-CTACGTGG-TAAA----TGAAAGGC-ATCCA-TCGCA-AG----CCACCA-GGGCA-TTT-G-CCAGAAAT-GGCG-TCC--ACGATCAT-ATAAGGTGTGC-GG-ACA-AATG-GATGG-ACCACA-CAACGAATAG--G-GT-CGGCTTC--ATAATGAGC-G-TGGC--AGGTA-GCTGACA-AAATGATCCAC--AAT\n",
      "----GGGGGCA-TGGCTCGATGCCTGAG--TCA-CGCC--TCAGC-GCA-C-AAATTC--TTG--AC-TTAGAC-TTCT--TT---ACATAGTGTTGGTAG-GT-TATGGGGGGGAC-ACGTGG-T-AA---TTTCAAGGC-CTCCCGTCTC--AG----CCACC-GGGGC---GTGGCCCAGAAGT-AGCG-TCC--ATTATTAT-TTAAGCTATG--GGTACA-ATTG-GATTG-ACCAC-CCTTCG-A-AG-CGTGT-CGGGTTC--ATAACGA-TTG-TAGC--AGGT-TGCTGACAGAAA-GATCCAC--AAT\n",
      "Score of aligned sequences = 6575\n",
      "The aligned sequences are saved in output file. Printing them here as well:\n",
      "TTTCAG-G--GAAG-GTC---ATTCTG-C--TAT--A-CCAGC-TTTAA-GC-GGAATG-GCTT-A-TGCC-ATCTG---GGGCAGGTTGCAC-CCCG-GAC--TTGAAA-A----CGGTTTCTC-ATAAGG---G--ACTGCTTTAACCCGC-A-CAATGGA-A-TGGC--ATT---T-GAAAATTG-A-ATC-CTAA-GTGAGTAATCCAA-C-TG---C-TTCGCGTCCATCA-AAACTCTAACCCT---C-TGGGAGCC-TGGGACTG--CA---ACCAA-CTCAG--A-T-TGCCA-TGTCTCG-AT-AATA--A-AAAT-TTAAGCT-AG-T-ATTCC-CGTCGG-GTTGATGCG-GATTCTCGGGGGACGTCG-ATGT-CA--G\n"
     ]
    },
    {
     "name": "stdout",
     "output_type": "stream",
     "text": [
      "TTCCCC-G--AAAG-GTC---CTTCAG-C-TTA---AGCC-GC-GGTAA-GC-GGAA-GAGGTT-A-TACG-ATCTG---GAGCAGGTAGCACTCTC--GAC--TT-AAA-A--G-CTCTTTCGC-CTCAGG---GA-AGT-CGTTAGCCTGC-C-CAATCTA-A-TGG---GTTA--G-GCACCTTG-G-ATC-CTGA-TTAAG-CATTCAA-CATA---C-TACGCGCCCATCT-AAACGAT-ATCGT--ACAAGGG-GCC-TGGGACGG--CA---ACCAA-CTCAG--A-T-TGCCA-TATCTCGCA--AATA--T-AAAT-CTAAGCT-GG-TGA-TCC-CATCGG-GTTGATTCG-AATTCTCGTGTCAAGAAG-ATGTCCA---\n",
      "TTCCCT-G--AAAG-GTC---CATAAG-C-TTA---AGAC-GC-TGTAA-ACAGG-A-GAGGTT-A-TACC-ATCAG---GAGCAGTTAGC-C-CACGGGACA-TGAAAACAT-G-TTCTTTAG---T--GG---GA-TGT-CGGTAGGCTGC-CGCAA-CTA-AGT-G---GTTA--T-GCACC-TGCG-ATC-CCGA-TTTAG-CAATGAAGC-GA---G-TTCGCGCCCATTT-AAACGAT-ATTGT--ACGA-GCAGCC-TGCGAGGG--GA---TCTAC-CTCGG--A-T-TGTCA-TATCTAGCA--AATA-GT-AAA--CTAATTT-TG-TG--CCCGCATCGG-GTTGCTTCGTAATCCT-GGGTCAAGAAG-GTGT-CT--T\n",
      "TTCGTT-G--TCAG-G-CG--CATAAG-C-CGAA--AG-C-GCGTG-AA-ATTGG-A-GCGG-C-AGGACC-ATCAG---GCGCAGTAAGC-C-CACGGGCCA-TGTAACCCG-G-GTCTTTAG---T--GG---GC-TAT-CTGTAGGCTGA-TGTAA-ATAGA-T--T--GTTT--T-GAACC-CACG-ATC-CGGATTTTA--CAGTGAA-C-CA-C-G-TTCGCACTCGTAT-AAACCATTA-TAA--AAG-TTCAG-C--ACGAGGG--GA-GTTATAC-C-GGGC-A-T-TGACC-TAGCGA-C-C-AATACAT-TAGG-GT-ATCT-AG-TG--CCCGCCTCTC-CATACTTCGCACCCCT-GGATTAAGCAG-GTGT-CT--T\n",
      "TT--TG-G--ACAGAGGCGT-C-TAAA-C-CGAA--AG--TGAGTG-CG-ATTGG--TTC-CAC-AGG-CCTCTCAG---GCTCAGT-AGGGC-CACGGGGCA-CGTTTCCCG-GTG-CGCTAG---T--GA---G--TTTTCTGTAGGCTTA-TGTTA-CTA-A----C--GTTT-GTGGAA-CGCGCG-TTC-CGGCTTTT--TCAGAGAA-C-CA-G-GCCT-GCTCTCGTAT-GGACCCTTA-TAA--AAG-TTCA-AC--ACG-GGG-TAA-GATGTAC-C-TGGC-ACT-T--CCGCAGAGA-C-C-AAAACGTGT--G-ATGATCT-CGCT---CCTGCCTC-CGCATACGTCCCACCCCT-GGCTTAAGGAG-GT-T-TT-GT\n",
      "-T-CTG-T--ACAGGGGCGTAC--GAA-C-TGAA--AG--TGCCCG--GTATTGG---TGGTAC-AGG--CT-TCAGA-TCCACAGT-A--GCGC-C---GC--TG-TT--CGTGTGTCGCT-GT-ACCCGA-TTGCGTTTTCTAAAGGC----TGATA-ATA-A-CGTC--GTTTCG-GGAA-CGCGCG-TGG-CAG-TTTT-TTCTGGGAA--GCA-G-GTCT-GCTCTTGTGT-GGACCC-TAATCA--AAG-TGCA-GC--ACG-GGGCGAATTCTGT-C-C--CGCTA-T-T--CCGAAGATA-C-C-AAAAAGAGT-GGCA--ATCT-CGCT---CATGCCTC-CGCATATGTCCCACCTGT-GTCCTGAGCAGCG--T-TG-GG\n",
      "--GCT--T-AACAGGAGTGCAC--GAA-C-TGAAC-A---TGCCTG--GAATTGG---AGAT-CGAGG--C-ATCAGA-ACCGCACT---GGCGC-C---GC---GGGT--AGTGCGTCGCT-AT-AGCCGA-TACCGTGTTCTGCACGC----TGATA-ATA-A-CGTCGGGTTT---AG-AGCTCG-GATGGAC-G--GTCGTTCTGGGAA--TCAGG-GT-T-GCTGTTGT-TAGTACCC-TAATCAT-AAG--GTA-AC--TCG-GGGCGTCTTCTGT-CTC--C-C---T-GGCCCCAAGA-A-AAC-AAACTGAGT-GGC----TCT-CAC-ACCCAGGGCTC-CGTGTATGGCCGACCTGTCG-CCTGCGTAGC--CT-TG-GG\n",
      "--GCT--TAAACA-GAGTTC-C-CG-G-CGTG-ACTA---AGCTTG--GAATTGG---AGAT-CGAGG--C-ATCA-A-GCCAC-CT-CTTGC-C-C---G-G-ATGGT--AGGGCTTCACT-TT-ACCCGA-TACCGAGATCTGCACGC----TGATA-CTGGA-C-TCCGGTTT---AG-AGGTCG-GATATAC---TATGGTTCGGGGAA--TTATG-G-CT-GCTGAT-AATCGTA-CCAAAATCATCAA---CT--AC-CTCG-GGGCGTCATGTGT-CTC--C-C---T-GGCCGCAAG-TA-TAC-GGACTGTCT-GAC----TGT-CAC-ACCCAGCACAC-CCTATAAAGCCGACCTGTC-CCCAGCGTAG--GCT-TC-GG\n",
      "--ACTACT-AA-A-GAGTGC-C-CG-GTC-TG-GCTA---AGCCAG--GAATTGG---ACAT-CTACG--C-ATCA-ATCCCACGC--C--GC-C-C--CG-GTA-GAT--AGGGCATAACT-TT-ATCCGT-TAGCGAGA--TG-AC-CAAGGTGA-AACT--ATAGTTCGCTTT---TG-AGGTTG-GATATAC---CAGGGTTCGGGGTA---TAAGAG-C-CGCTGAT-AATCGTAGCAAAAAT-TTCAA---CT--AC-CCCG-CGGCGCCACATG--C-C-TC-C---TAGGTCGC-AGGCA-TACGGGCCTG-C--GGC---CTGT-CTC-ACTCATCCCAC-CCTATAAAGCCGACCTGTC-CTGAGCGTA---G-TGTCAGG\n",
      "--ACTACT-AA-AGGATTG--C-C-TGTC-CG-GC-A--AAGCCAG--GAATACG---ACCT-CTACG---AAT-AAAGCCCACG--TC--G--GTC--CG-TTA-GAT--AGGGCACAA-T-TTCATCC-TCTAGCGA-A-GGGGA--CAAGGT-CCTACT--ATAGTTC-CCTT--GTG-AGGTAG-AATATAC---GAGTTTTCGGCGTA---TAAG-GAC-AGCTG-TTGGTCCAAGCAGCAAT-TTGAA---AT---CGGTCG-GGGCGCC-C-----CAAATCAC--CTAGGTCTC-AGGCA-TACGGG-C-G----AGTAACCT-TACTC-ACTAATCCCACACGT-TAAGGTCGACCGGTC-CTGAGCGT---TG-TGTCTGG\n",
      "Score of aligned sequences = 7914\n",
      "The aligned sequences are saved in output file. Printing them here as well:\n",
      "-C---GCTCGCAC-GC-AGGGATCAGG-AGCG-T-ACGATCGCGTTCATCGTA--T---GGTCCACAGACA-CGCGGT--TAAGACTAAT--TTATACGTCA-CAC-CGAG-GTTCTG-TC-ATA-T-T-CAT-AAG-GGAA--C-AGG-AGT---ATGTATGCA-TTATTC-TAAGCAAC-T-CGCGCACGT--GATCGTTA-GCCG-G-ATCA-TCT-G--TG-GCCACA-CTAT-GAGGAA-GCTCAG-G-AAACCAGTAGAGT--T-TGG-TT--GT-TAAATAAC-TGCCC-C-ACG-GGTTCACTA-TTTAGAACCCCG-CGTGCCTCGG---GAGAG--G-CTA-GGGCGAATGATTA--TATG-TGA-TGCGTGACA-TGTGGCGC-CGTCG--AAT-GAAAT--G-GTGATACCCGG-AGATCAAAC--TG\n",
      "-G---GCTCGGAC-AC-CTGGATCAGG-AGGG-T-ATGATAGCGTTCATCGTA--G---GGTCGACAGACA-CCCGAT--TAAGACTAAT--TTATACATCA-CAC-TG-GTGTTATG-TT-AGG-C-T-GAG-AAG-GAAA--C-A---AGT-CGCTGGATGCA-TTGGGA-TGACCAAC-T-CTCGCACGT-GGA-CGTTA-GGCG-G-TTCT-TCT-G--TT-GTGACA-TTAG-GCGTAT-GCTC-GTG-AAATAAGGGGAGT--T-TGG-TT-CG--TAAATAAC-T-CCC-CGAAG-GGTTCTCTA-ATTAGAACTCCGAC-T--CACGG-TCGAGAA--A-CCA-GGGGGACTTAGCA--AATG-CGA-GGTGTGACA-TATGGGGC-CG-AG-TAAT-GAAATA-G-AT-TTATGCTG-CGATCAAAG--AG\n",
      "-GAATG-TCAGACGTC-C---ATCATG-AGGG-T-AAGGTAGCGTTCATCATA-TG-TTGGT-G--AGACA-CCCGAT--TAAGCCTAATAGTTAT--ATCA-CAC-TG-TTG-GGGGCTT-A-G-CTT-GAG-ACG-CAAG--C-A---ACT-CGCTGAACACA-ATGGTA-TAACCAACGTGAT-G-ACGT-TGA-CGTTG-GGCG-G-TGCT-TCT-G--TT-TTGTCC-TTCG-GCTTAT-GCTC-TTG-AAATAAAGGGAGT--T-TGG-AC-CG--TAATTAAC--ACCA-CGAAT-GGATCGCTA-AATACAAATCCGAC-T--CATGG-TCGAGGC--A-CCA-GGGGGTCTTATTA--AATG-CGA-GCTGTAACA-TAT-AGGA-CGTAG-TAAT-GAAATA-G-AT-TAATACTG-CGATCTAAG--GG\n",
      "-GACTG-TC---CGTCAC-GCATCAAG-AGGGTT-CGGGT-GCCTTCATCATA-TG-ATGG--G-GAGACA-CCCGAT--GCTGCCTAATAGTGAT-GA-CA-CGC-TG-GTG-GGGGCGT-A-G-TTT-GAG-GGG-CAA---CTA---ACT-TGCTGGAGAAA-ATGATACGAA-GAACATGGT-G-TCGT-TCA--GCTGCAAAG-C-AACT-GCT-G--TT-CTGTCC-TTGG-GCTTAC-GC-CCTTG-AAAAAAAGGGAGT--T-TGA-AC-CG--TATTTTA--TAACA-TG-GTGGGATCGCTA-AAAACATAGCCCAC-T--GATGG-ACCA-CC-TA-CCA-TAGGTTCTGATTA--AACG-TGG-GCTGTCACA-TA-GATGATC-TAGCT-AT-GAAATT-GAATATTA-AC-G-CGATTTAAG--GG\n",
      "-GAC-GGTC---CGACA-GGTATC-AGTAGCGTT-CGGGT-GCCATCATCATA-AG-ATGG--GTG-GACG-CCCGAC--GCTGCCTAATAGTGAT-GA-CT-TGC-TG-GTG-GGGGCGT-A-G-TGT-G-G-GGGTCAA---CT--C-ACT-TGCTGTATAAA-AAGGTTCGGA-GATCATTGT-G-TCGT-TCA--GCTG---AG-C-AACT-ACTGGTATT-CTGTCC-AACG-GCTTTCAG--CCGTG-TTAAAAAGGTAGG--T-TGG-AC-CG--TATCTT-C-TAACG-CG-GTAGGCTCGCCATACACCAT-GACCTC-T--G-CGGAATCA-CC-TA-CTA-TAGGGTCTGA-TA-GAGGG-TGG-CCGGTCACT-TA-AACGATC-TTGC-AAT-GAAAGT-GAATATT--ATGG-CCACCTATG--GG\n",
      "GGA--TGTC---CGA-AAAGTATC-ATTAGCGTT-CGGGT-GGCATGACCATA-AA-ATGG--GTG-GACC-CCCGTC--GCTGCCTAACAGTGAT-GA-CTGT-C-T-CGAG-GGCCCGT-A-G-TCT-G-G-TGCTCAA---C--AC-ACTGT-TTGTATACC-AAGGTTCGG-GGAGCGGTGT-G-CCGT-TTA--GCTG---AC-C-TTCG-ACTGGGGTT-CTGTCC-AACA-GCTTTAAG--CAGCGATT-AAACGGTAGG--T-TGGCA--C-A-TACCTT-C-TCACA-CG-ATAGGTTTGCCATAGACC-TTGACCTC-T--G-CGGACTC-GCC-GA-CTA-TACGCTCTGA-TA-GCGGG-TCG-CAGGAAAAT-TA-AACAATC-TTGC-AAT-GAAAGC-CAATATT-GA-GT-CCACCCA-G-CCG\n",
      "-GA-ATGTC---CG-CAAAGTATC-ATCAGTGTT-CGGGT-GGCTTCACCCTACAA-CT-G--CCG-GACCTGCC-TC--CCTACCTAACATTGA-GGA-CTGT-A-T-CCA-ATGCCTGT-A-G-TCTAGCGATG--C-A---C--GC-ACTG-CTTGTATACA-AAGGTTCGG-GCAGCGGTGT-G-CCCA-TTA--GCAG---AC-C-ATCG-CCTGGGGTT-CTGTCC-AACAGGC-TTCAG--CAGCGATT-GAGGGGTCGG--T-TGGCA--C-T-TACC-TAG-TCGCA-CG-ATAGGTTAGCCAAATACGGTT-AGCTC-T--G-CGGACGC-CCC-GA-CCG-TCCGCTCAGA-TA-GATGA-ACT-CTGGAAAAT-TA-AACAA-CCTTGC-AAT-CAGAGC-CAATACT-GA-GT-TCACCCA-T-CCG\n",
      "-GA-AGGGC---C-ACAAACTAT-TAACAATGTT-CGGGT-CCCTCCGGCCGAAAA-GT-G--CAG-CTCCTACC-TC--CCCACCTAACATTG--GG--C-GAAAGT-GCATCTGCATGT-A-A-TCCAGGGATG--C-AGGCCCGGC-A-TGGC-TGCA-A-ATCA-G-T-GACCCA-CAGTCT-G--CCATTTA--GCA----AA-G-GTTGACCTTGGGAT-ATGTCCTAGC-GACATT-AG--CAGCGA-ACGTGGCGTCTC--T-TGGCAGGTAT-TA----AGCT-GCATC--ATAGGTTTGCCACATTGGGTT-AGCTC-T---CCGGATAC-CCCTGA--CGAT-AGTTCAGA-TG-GATCA-CCT-CTGGGACAT-T-CTACTA-CCATG-TGTTGC-GAGC-CAATCCT-GA-GA-AAACCCA-G-CCG\n",
      "-GA-CGCGC---C-TCATACTAT-TTGCAATGTC-CGTGT-CCCAAATG-CGAAAACGT-G--CTG-CTCCTAAC-TCA-CCC-CATAACATT----G-ACCGCATG-AGCATCTGCATAT-A-A-ACCAACTAT--AC-AAGACCGGC-A-AGGC-CGCA-A-ATCA-G-T-AACCCA-CAGCCT-G--CCACCGA--GC-----AA-GCGTAGACCTTGGGATAAT-ACCTCG-TGACATT-AG--CAGC-TCACGTCAATTCCCAAC-CGG--GGTAT-TA----CGCT-GCAGC--ATAGGTCTGCCATATTGGGTT-AGATC-T---AAGGACAC-ACCT-A-ACGAT-AGTACCGA--GCAATCA-CCT-ATAGGTGAT-T-GTAC-ATCCATG-TGGTAC-GGGC-CAATCC-GGA-GT-AAAGTC-GGACC-\n",
      "-GA-AGCGC--ATGTCATA--AT-TGGCAATG-CACGTG-AGCCATAT-ACCCCTACGT---TCTG-CTCCAAAC-T-AGCCCGC-TAACCTT----G-ACCTCATG-GGGTTCCGCACATCA-AGA-CAA-TA--CAC-GAGCCCGGCTA-A-GC-CGC-GA-A-CCCG--CAACCC-CCAG-ATTG--ACA-C-A--G----GGAACGCATACAACAAGGGATAAT-AACTCG-TGTCA-GAAG--CAAC-TTAAGTCTATT-GCAACGC-G--TGT-TGTA-ACACGCT---AGC-GATA-TTCTGCCTTTTTGGATT-AGA-CGT---GTGGGCA--GCGT-ACACCAT-AGTGCC-A-TGCAAT-ATCCTCTTACGTAATAT-G--C-TTACAT-CTGGTA-GGGGCTC-AT-TGGGA--TCAAAATC-AGA-CA\n",
      "Score of aligned sequences = 8944\n",
      "The aligned sequences are saved in output file. Printing them here as well:\n",
      "-CGCCTACA-C-A-CCTATGA-GGAATATGGA--A-GGTAGCCT-TATAGG--TCGTGA-TGC-G-GCATG-GGCGGA-TTCT-TTACCAG--CCGT-CCA-C-CTAT-ATGTA-ACGTGG-CC-C-T--A-CCTG--A--GGACCCTC-A--GGTCAGAT-TGG-TTGCTA-ATGAACTCGATCA-CCT-TCAGGGAC-ACA-ATTGGC-T-T-AGATTA-G-GCCTACGACCCTGTT--G-TA-AGG--GC-TTGAGCAA-CGCCAT-TC-TG--AGCTGA-GG-C-GTTT-AGCC-ATCGGC-GGTAGCTA-GCGGATG--A--G-AC-G-G-CGTC-TGTCCTAAT-GA-C--GT-ACCAGACGTC-----G-TTATACTATC-AGA-CCAGTCTTAGA------C-TGCTGAAGG-GCGC-ATA-C-ACGT--GCCTACTTGG-A--TGCGT-GCAG-TACGTGG-C-CCGCTATAAAAATA-GGACCTGCT-G-GGTACC-AAAGTGG\n",
      "-CGCATACA-A-A-CGTATGA-GGAATATGGG--A-GCTAGTCT-TATAGG--TCGTTA-TCC-G-GCATG-GGCGGT-TTTT-TTACCAG--TCGT-CGA-C-CAAT-CTGTA-ACCAGG-CC-A-T--A-GCGG--C--GGACCCTC-A--CGCCAGAT-TGA-TGGCTA-CTGAACTCGATCA-CCA-TCAGGGAC-ACAGATT--T-T-TAAGCTT--GTGCCAACGACCATG-A--GAGA-AGG--AT-TTGAGCAA-CGCGAT-TC--G-CCGATGA-GG-C-GTCT-GGCC-AGCGAC-GGTAGCTATCCGG-TG--A--G-AA-GAG--AAC-TCTCCTAAG-GA-C--TT-AGCGGACGTC--A--GCATA-ACT-TG-AGACCCA-TCATGGT------G-TCCTG-AGGAGCGA-AT--CTACGT--GCGTTCTCGG-A--TGCGT-CCAG-TCCCCGG-C-CCTCGACCAATATA-CGACCTTCT-G-GGTACT-AAACTGC\n",
      "-CCCATACA-T-G-CGTATGA-GGCAGAT-CG--ACGCTACTCT-TATCCG--TCGTTA-TCC-GCG-ATG-GGCCGT-TTAT-TTACCTG--TCGC-CCA-C-CATT-GTTTA-GTCAGG-CC-A-T--A-ACGG--C--GTACCCTC-G--CGCTGGAA-TGACAGG-TA-CCGAATTCGATCC-CCT-TCAGGCAC-CCAGA-T-CT-T-TAAG-TTT-GTGCTAACGACCGTG-A--GAGA-AGT--TT-TTTAGCAT-CGCAATGT---GTCC-ATCA-TG-C-GTCTATG-C-AGCTAG-GGTAGCTATTC-GCCG--A--G-AA-GA--CAAC-TATCCTAAG-GA-G--AT-AGCGGACCTC--C--GCATA-TCT-TA-AGACTCA-TCATGGT------G-TACTG-AGAAGCGA-A-C-CTACGT--GCGCTCTGGG-A--AGCGTGCCA--T-CCCGGTC-CCTCAACCATTATA-CGACCTCCA-G-GATACT-AAACTTC\n",
      "-ACTATACA-T-G-CGGAAGC-GCCA-AAAGGA-AC-CTACTCA-CATATG--TCGTTT-TCT-GC-CACG-GGCCGC-TTATGTT-CC-G-ATCCC-CCG-C-GATT-G-TGACGT-TGGACC-A-G--ACA-GT--CA-G-ATTCTC-G--GGCTGGAA-AG-GAGGGTA-CCGACTTCCTTCCGTTT-TGA-GCA--GCGGA--CCTAT-TAA--TTTCCTACCAACGACAAT--AC-TACA-TGT--TT-TAAAGCAT-CGCAAT-T--TGT-CTAGCA-TG-C-GTCTATG-G-AGGTAG-GGAAGTTATT-AGCCG--A--T-AA--TC-CACCTTA-CTTGA--GACG--CT-AGCTGAAGTC--CTAGTATA-GC---A-AGGCTCA-ACA-AGTC-----G-TTCTG-AGAAACCA-A-CGCT-CAT--GCGCTCTATG-A--ATCATG-CAA-T-CCCGCCC-CCGCAAATATTGTC-CTTCCTCCA-G-GATACT-AATCTTT\n",
      "-ACTACACA-T-C-CCGAATC-GCGA-GAAGGA-AC-CTCCCCT-CACA-GC-ACGTAA-TCT-G-ACACG-AGCCGC-TTATGGT--CAG-A-CCA-GAGTCTAATTCG-T--C-TTTGGA---AGGT-GC-GGT--CA-GTA-TCTC-G--GGGAAGCA-AG-GAGGGTA-CCGTCCCCCTTCCGTTTGTTA--CA--GCGG--GCAT-TCTGA--TTTCCTAGCAACAATAAT--AG-TACACCGT--TG-GATA-CAT-CGCAA--TC-TGT-CAAGCA--C-CTGT-TTTTCG-CGGTAG-GGAACTTATT-GGCCG--A--T-AT-TTG-GA-CTT---TTGAGCGA-G-AATAAG-TGAAGTC-GC-AGCCTA-G---AA-AAGCTCA-ACA-AGTC-----GAGACT--AGAAAACA-A-CACT-AATCCGCGATC-A-G-G--ATCACG-CAACT--CCGCCC-CCGCATAGAGTATC-ATTCCTCGA-GCGCT-CT-TATGTTT\n"
     ]
    },
    {
     "name": "stdout",
     "output_type": "stream",
     "text": [
      "-GTTTCGCA-T-C-CCGAATA-GAGA-GCAGGA-AC-CACGGCG-CACA-GC-CCGGAG-TCT-G-GCACG-AGCCGCGGT-TGG--GCCC-A-TCG-GCGTCTAATT-G--GGC-ATAGG--C-AGGC-GC-GTTC-CATGTA-TC-C----GGGAAACT-AG-GAGAG-ACCCATGCCTGTGCCACTTG-TA---A--CCGGGCGCAT-TCTGA--CGTCCCAGGATCACTAAT--AGCGACGTC-T--TC-GATA-CATCCG-AA--TCATCT--AACCA--C-CTGT-TCTTCG-TGGAAGTGG-GCTTATT-GG-CG-AA--T-AT-TTGTG--CTT---GTGAGCCAGGCTA-AAG--GTAGTC-TC-AGCCT-CG---AA-ACGCTGA-A-AAACTC--AT-GAG-C---AGAAATC--AGCGC-CCGTCGGCGATC--TG-G--GTCA-ATCAACT--CCACTC-CCGCATCGAGGATCAATGCC-GGA-GCCCT-CT-CATGTTT\n",
      "-GTTACGCA-T-C-CAGAACATGGGA--CAGGA-AC-TACAGCA-CAGA-GC-CCGGTG-GCTCG-AC-CG-AGGCTCGG--TGG-ACCCC-A-CCG-GTGTATAA---GAGGGC-ATA--CAC-AGCC-GC-GTTCTC-TGT-GT-TC-T--GGG-AACC-CG-CTGAG-ACCCATTCCTCTGCCACTT-TTA---AC-CCATAC-TAT-TCTGA--CGCCCCAAGATCAATAA--AACCGATG-CCT-ATC--ATA-CATCCG-AA--TGGT-T-TAA-CA-AC-CTGT-TCTT-GATAGAATTGG-GCCTA-GCGG-CGAAA-GT-ATATT-CG--C-----CTGAGTCAGGCCA-AAG--GTAGTCTTC--G-CTTC---TAA-CCTCTG--ACAAACTG--GT-GAG-C---ATAAA-CC-ATCAC-CAGTCTGCG--CGCTG-G--GTCA-ATCAACT--CCCCTC-CCGAATCGAGGATCCATGCC-GGA-GCCGT-CTAC-TGTTT\n",
      "-GGTACG-ATTAC-C-GAACATGCGA--CAGGA-AC-TACCGCA-CAGA-GC-TCGGAGCG-TCG-A-TCG-AGGGTCGG--AGG--CCCCTA-AAG-GTATATAA---GCGGGC-GTA--CAC-AGCC-GC-GTTCTC-TGT-G-GTC-T--AGCTCA-C-CG-TTTAG-AACCATTGCGCTGCCACTT-TTA---AC-CCCTA-GAATGGC-GA--CTATCTAAAATCAATAA--TAGTGATG-CCT-AT--GATA-CATCCG-CA--TGG-AT-T-A-CAGACACT-T-TGTT-GATAGAATT-TCGCGGA-GCGG-CGACA-GTGA-ATT-CG-------ACTGTCTCA-GCCCGAAG--GCAGTCTT---GGCTTC----AAGCTTCAG--ACAAAGTG--GTCTA--C---ATAAA-CC-ATCACCCA-TCTGCG--CGC-GAG--GTTA-CTCAACT--CTCCACACCG-ATCGAACTTCCA-CCCGGGAGGCAG--CTGC-TGTTT\n",
      "CCG-AAAAATTGCGCTCAAC---CGA--CAGGAGA--TGCCAAATC-CA-GCATTGAACCG-T-G-A-GCGCA-GGTCGG--A-GATCCCC-A-AAT-ATATATAA---GCGGGC-GTA--C-CTA-CCAGC--CT-TC-TG--G-GTCATGAAGCTCA-C-C--CTTCGCAACCACCCCGATGACACTT-TTA--CACACCC---GAATTGC-CA--CTATAAAAAATCACTAA--TA--GA-G-CTTCATGTGA-AACA-CAGGCA--CGG--CCT-A-CGGACA-TAT-CGTT-GCTAGGGGT-TCGCGGA-G-GGGCCTCATG-GA-ATT-C-------TACTCTTTCA-GCCCGTCG--GCAGTCTT---GGTTTC----GGGCTGCA--TACAACGTG--GTCTA--C---AT-AAGCCGA-CGCCCA-TCTTCG--CGC-GAG-ACTT--CTCAGCT--GTCCTCATTG-ATCCATCTTCCA-CCCGGGCGGCAG--CTGC-TGCAT\n",
      "-CGGAAAAATTTCGCTCAA---TCG--GCACGAGA--TGCCAAGTC-C-TGCATTAAATCG--CG-A-GCGCA-TGTCGG--A-GATCCGC---AATCATATACAA---GCGGGC-GTA--C-GT-CCCAGC--AT-TC-TG--G-GGCATTAAG--CA-CTC-TTTTCACAACCGCCTCGATGAGAGGT-TT--CCACACCC---GGATTG-ACA--CTATATAAAATCACTAA--TA--GA-G-CTTGATGTGA-AACA-AAACCA--CGG--CCT-A-CGGAGA-TA--CCTTTACTAGTGGT-TCGCGGA--CGGTTCTAAT--GACCTT-C-------AACTCTTCCA-GCCC-TCG-GGTAGTCTT---GG-TT---GGGGGCTGC--TTACAAAGTGACGT-T---C---GT-ACGCCGA-CG-GCAATCTTCG--CG-TGAGTA--T-CCTCAGCT--GTCCTCATTG-ATCCATATTTCA-CCCGGGTTGCAG--CTG-TTACCT\n",
      "Score of aligned sequences = 10841\n",
      "The aligned sequences are saved in output file. Printing them here as well:\n",
      "--AT--TCTCAA-GT--TTCG-CCAG-CGTAT-ATCG-GTACGAGATGGG--TGCT-TT--TGTC-TTACCC--CGGC-GCATG-CC-CA-C-G-CGTT-ATCGGTGACCTTCG-GACT-AC-AGACG-ACGATGGGACG-A-TC-T-ACCC-TCGATCG--CG-ACTC-GT-GT-ACCCTCTA-ACACAG-TTTTGAGC-GA-G--CGGGGTCTCTGCTT-TAAGGTCTCAA-C-CTATAAA-T-C-CT--CCTTAGGAGA-TGACG-TAGGCCGACAAAGATCCAGAT--GCCAACGG-TGCGCC--CACCATAT-CATCAAAG-CATT-TAC--ATGCTAT--GAAAT-C-A-GCCC-CCGGTCTTA-ACGCAGT-TCAAAAC-ATTGCG-AC-CT-TATATAA-GTAG-AG-AAAC--TG-ACTC-CTGAAAACT-AACGTG--CGGAA-GGTACTGA-CGAAA-AGGAA---TGCG-CCCT-ACAGC-TGTGCG--CCTCGGAATATGACTA-CCGGGTGTTATATTTCA--GCTGA-CGTCGGGTTAT\n",
      "-AATG-TC-CGA--T--CTCT-TGAC-CGT-TGATCC-GTTCGAGATGGG---GGT-TT-ATGTG-TTACCCTGCGGC-AC-T--TC-AA-CTG-C-TT-ATTGGCGCCCTTGG-GAGT-GG-AGACT-ACGTTGGGA-GTA-TCGT-A-CC-TAGA-AG-ACC-TCTC--TCGT-ACCCTCCA-AGGCAG-ATATGA-CTTA-G--CGGGGCCAATGCAT-TAAGCTCT-AACC-CTATAAA-G-C-CT--CCTTAGGCGA-TGACT-TACAAAAACAAAGATCTAG-TG-GCCAACGGCT-AGCC--CGCCACAT-CATC-AAGCCATT-TCC--ATTCT-T-CTTATT-C-A-GGCC-CCGCTCTGA-ACGCCTT-TCAACTCTA-AG-GTAC-CT-TAAATAA-GTAGCA--AAAT--TGAAC-C-CTCACACCT-AACG-G-CCGGGA-GGTACTGT-CGAAA-AGTAA---TGCGTCCTTAAC-G--GGTGCG--CCTCGGAATAAAATTA-CCGGGGGTGAGA-TTGAG-GTTGATCG-CGGGTTTT\n",
      "-AA-GCTC-CG---T--TTTTATGAC-CGT-CGGTCC-GTTCGCGCT-CA--TGGT-TT-ATGTGATT--CC-G-GGCTGGGTT-TC-GA-CTG-C-TC-ATTGGTGCCC-TGGAGAGT-TG-AGACT-ACGGT-GGAAGTG-TTGG-A-AC-TAGA-AG-ACA-TCTC--TCGT-ACCCTCCA-CGGCAG-ATGTG-CCTTA-G--CGTGGCCACTGCAT-TATGCTC-GAATC-CGATGAG-G-C-GT--CCTTAGTCGA-TGACTGT-GAGAAACAAAGAGCTAG-TG-GCCAACAGCT-AGCC--CACCACAG-C-TTTAATCCATT-T-C--AGTAT-TACCGCTT-C-G-GGCC-CCACGCTGA-ACG-CTTGTTAATTCTA-A-CGTA--CTGTAAATAA-GTATCA--ATAT--TGCA-GC-TTCAGACAT-AAC-TG-CTGGAA-GGTAGTGT-CGAAACA-TAA---TGCGTCATCAAC-G--GGTACA--CCTCGGAATAAAATGC-CCGGGGGACA-AGTTG-GCGTTGATCG-CGAGTTTG\n",
      "-TA-GCTC-CG---T--TTTTGTGAC-CG-GAGGTCC-ATTCGCG-TATA--TGGA-TT-AGGTGATT--CC-G-GGCTGGG-T-TCGGACCT--C-TC-ATTGGTGCCC-TGGAGAGT-TG-AAAGT-ACGGT-GGAAGTG-GTGG-A-AA-TAG-GAGTA-G-TCTC--TGGT-CCCCTCCA-CGGCAG-GTGTG-CC-TACG--CGTGGCCACTGCATATA-GATC-TAA-CGCCACG-T-G-CAGTA-CCTTA-CCCA-TAACTGT-GACAAACAAAGGGCTA-ATT-GCCAACTGATTGGGC--C-CCACTT-C-TTTAATCCATTCT----AGTAT-TACCGGTT-C-GCGG-C-CCAGGCTCA-ACG-GTTGTCAATTCT--ACCGGA--CTGTAAGTAA-TTA-CCC-ATAT--TGC-TGC-GTCAGAAAT-AAC-TG-ATGTAA-CGAAGTAT-GGATACA-AAA---TGTGTCAGC-CCCG--GTTACA--GCTCGGAAAAAAATTC-CCGGCCGACA-AGTTG-GGGTTGGTCG-CGAGATTG\n",
      "-TA-GCTC-CG---TG-CTTT-TGAC-C--GAGGGCCTATGCGCG-TATAC-T--ACTT-AGCTGA-T-ACC-GCGG-TGGG-TAT-GGACCT--C-TC-ATTGGTGCCC-TGGAGAGT-TG-AAAGT-AAGGT-GGATG-G-GTGGCA-AA-TAG-AAGTA-G-TCTC--TGGT-CATCACCAGC-GCAG-GTATG-CC-GACA--AGTCGCGAATGCATCCA-GATC-TTA-GGTTAC-AT-G-GGGT--CCCTGGCCAA-TGTCTGT-GACAAACAAAGGCCTA-GTT-GCCCACTGGCTGCGC--C-CAAC-G-AATTTTATCTAAGCT----GGTGT-TATCGGGT-C-GCGG-CTAC-GGCTCA-ACG-GGTGTCAATTAT--ACCGGA--CTGGAACCAA-TTA-CCC-CTAT--TGC-TGC-GTCAGAAAT-AAC-TG-ATGTTC-CTAAGTCT-CGATA-A-AAA--CTTTAACAGC-CCCG--GTTACA--CCTCGTACAAAAATTC-GAGGCATAC-TAGTTG-GCGTTTGACG-CGAGATGG\n",
      "-TA-GC-CCCG----GCCTTT-TG-CGC--CAGGGCCTATGCGC--T-TAC-ACCACTTCCG-TG-GT-A-CAACGG-CAGG-TAT-GGGCGT--C--CAACTAGTG-CCTTGCAGAGTGT--AGACT-AATGT-GAAAG-G-CTGGCA-AACTA--TATTA-G-AATC--TGGT-CAGCGCCAAC-CCCG-CTATG-CC-GACT--AGCCGTGAATGCAAGGA-GAT-GTTA-GGTTAC--TCG-GCAT--ACCAGG-CAATTGGC-GGAGACTAACAAAGGACT-TGTTCG-CCTCTGTCTGCGC--C-CAA-TGCTA-TCTATCTGAG-T-T--GGTGTTTA-CGAG--CAGCGG-ATAC-GGC-CAGAC-AGCTGTCAAATAT--A-CGGGG-CACGATCCAA-TGA-CCC-CCAT--TGC-TGCAG-CGGAAAT-GTC-TC-ATGGTC-CTAACCCT-CCATA-A-AAA--TTTTAACATC-CCCG--GTTACACGCCT-G-ACACAAA-TCAGAGGCATAC-TAGTTG-GCGTTTGACG-CGAGATCG\n",
      "-GA-G---CC-A-TAG-CTTTATG-CGC--CACGGCATATGCG---GATAC-ACCACTTCC--T-TGTTA-CAACGG-CAGG-TAT-GGGCGT--C--CAATTAG-GGCCTTGGAGCGTGT--ATACTCGA-GT-GAAAG-G-CTGG-AAAACT--TTATGA-G-AA-C-GCGGT-CAGCG-CAAATACCGAC-ATG-CC-GACT-AAG-TGTGAATACAAGGA-GAT-GCTA-GGTTAC--T-GAGCGT--ACCAGG-CAATGGGC-GGAGACTTACACAGGACT-TGTTCG-CCTTTGTCTGCGCG-C-C-A-TGCTA-TCTGTCTGA-AT-T--GGTATTTA-CCCG--CAGTGG-GGAC--TCCCCGAC-AGCTGTCAGATAT--A-CGGGA-CCCGACCCAA-TGA-CCC-CCAT--TG-GTGCAG-AGCAAAT-GTC-TC-ATGG-CAAAAACCCT-CCA-A-A-AAA-CTTGTCACAT--CGCGG-GTTGCACACAT-G-ACACAAA-TCCCTGACATA-GTAGACG-ACGTTT-AAGTCGAGATCG\n",
      "-GA----TCC-ACT--TCTTTATG-CGC-AC-CGGCCTATTC---AG-TTCTCCCGCTTCC--T-TGTTA-CCGCGG-GAGG-TAT-GGGAGT--C--CAATAAG-CGCCCCGGAGCGTG-G-ATAATCGA--CCGCACG-G-CTTG--TAA-TCCTTA--A-GCAA-CGGCAGT-AAGCG-CACATACTG-CCAT--TCGGA-TGAAG-TGTCAATACTAGG-TGA-CGCCA-GGATAC---GGAGC-TT-AGTAGG-CACTGGGC-AGAGAGTTTCTCAGGAC-CAGTTCG-CCTTGGTC-GC-CG-CGAGA-CGCTA-TGGGTCTGA-AT-TA-GTTA-TT-GCCC-A-CAGTGG-GGA--ATCCCCGA-AAGCTTTCAGATAT---CCGGGA-AACGACCCAA-TGA-CCC-CCAT-AT--GTGCAG-AGCTAAT-GTC--CAAT-GACAAAAAGCTTACC---TA-AAA-CTGGTCACAT--CG-GGAGTTTCACACA-CGTA-ACTAA-TCCCTGAC-TTTTTACACG-CCGTTT-AAGTCGGGATGG\n",
      "TG-----TCC-AC--CTCTCTAAG--GGTA-TCGGCCTATTC--AAG--TCTCCAGCTT-C-GT-TATCA-CTGC-GTGA-G-T-TAGGGA-TATC--GAATAAG-AGCCCCTGAGTGTG-G-ATATTCGA--CCGCACG-G-CTTG--TAA-TCC-TA--AAGAAATC-GC-GTGAACCG-AACATTCTG-GCAT--TCGGA-TGAAG-TGGCCACACTA-TTTGA-CGACA-GGAGAC---GAAGC-AT-AGTTTG-CTCTGGGC-AGGGAGTTTGTTAGGAC-CAATT-ATCCATGGTC-G-TCG-AGAGA-CGCT-CTGCGTGTGA-AT-TA-GTTA--TCGCCC-A-CATTGG-GTA--ATCCCCCA-AAGCTGTCA-A-AT-AGCCGTGATAA-GAGCCAACT-A-CCCACC-T-AT--GTGCA-TAGCTAATGGT---CAAT-GACAAAATGCTTA-C---GA-AAATCTGGTCAGAT--TG-GGAGCTTCACCCA-CATA-ACTAA-TCCCTGA-GTTTATATACG-CCGTTT-AAGTCGGGGTAG\n",
      "TG-----TCC-AC--CTCCCTAAG--GGTA-TCGGCCTATTC--AA--CCCTACAGCTT-C-G--TAACTGTTGC-GTGA-G-T-GATTGA-TATC--TAATAAG-AGCCCCCGAGTTTGGGCAT-TTC-A--CCGCCCG-GCCTT---TAAAT-C-TA--AAGAAATC-GC-GCGAACCG-CAGAGTCT-AGTAT--CCGGA-TGGAG-AAGTCACATTA-GTTGA-AGATA-GGAGAC---GAAGC-ATGA-TGTG-CTC-AGGCCAGGGATTTTGTTCGGAC-CGATT-ATAGATCCTC-G-TGGCA-ATA-CGCT-CTGCGTGTG-CAT-TACG-TA--TCGTCC-ATC-TT-GCCTA-CA--CCCCAAAAGCTGT-A-TGAT-AGCCGTGTTAA-GAGCCAAAT-A-CGCACC-TCA---GTGCA-TAGCT-TTTGT-ATC-AT-GACAAACTTCTTA-C---GA-GAATCTGGTCAGA--GAGCGCA-CTCCCCCCA-AATA-AAT-AGGCCCCGA-TTTTATATACG--TGCTTCCAGTCGTGGTAT\n",
      "Score of aligned sequences = 11278\n",
      "The aligned sequences are saved in output file. Printing them here as well:\n",
      "-AGATGGAGAG-----CA-GGCG-G--GCTC-CACCA-ACTCGA--GC-CG-ATAAAGGGCT-GGCCT-AACTTTTATTGTG-----GAGT-GGTTG--TTGTT-AATCG--ATGTTCGGC-ACTTGAAT---GATCTAAACCATGGT-GCTAACAC---GAGACAAAATTGC--GATTAC-C-TCG---ACAAAGTACCGCTCC-AAAGCCACA---TAAG----AGCGTGCGA-TGC-CTCTCGGAA-T-CACAA-ACT--AGCCAACT--C-G-A-TA-CGGTG-GTCTGT--ACCTAGGGCCACAGA-G-GACCATA--ACAGATTC-TGTTCCG-CATG-TCGTAATTAG-GCCA-TG-GCGTTACGA--CAAG----GCGCCCCCTTAA-GACAG-C-GAC-C--GACC-A--GGGGGCCACCCCC-GAAGTTTG--GAACACGCGGA---AC-GAGTGCT-GCTTCATGA-GATGG-T--AGT--GGA-GACTCA-CTAG--GTAGCAGTTTATAGTTG---CTTCCCG-----TCGT--GATAC-GATGA--GTCTG-GAA--GACTC-ACATAATG---GCAGGACCC--C--CCTGCGA-TGACTGC---AGCTACT-GCCCCAA--AATAC\n",
      "-AGATG-A-AG---CTCA-GGCG-G--GCTC-CACCA-ACTCGA--GC-CG-CTAAAAGGCTCG-CCT-AGCGACTGTTGTGC----G-GT-GGTTG--TTGTTCA-TAGTTATG-T-GGCT-CTTCAAT-CCGCTC-AA-CTATGGT-GCTGTCAC---GAGATAAACTTTC--GATT-CGC-TCGT-CACCA--TCCCAC-CCTAAAGCTA-A--CTAAGC----GCGTGCGA-TGC-TTCTCGGAA-T-CACAAC-CTG-AG-C-A-T--CTGAA-TAG-GGAGA-TCTGT--AAGTAGGGACTCAGA-G-GCCCATA--ACAGATTC-TGTACCG-CCTGA-CGTGCTTAG-GCCA-TG-GCTTTTCGAT--AAGC---G-GTCCCC-GAACGAGAG-C-G-CTC--TACC-A--GGGGGCC-CCCCCTG-AG-TCGCTGAAAAGGCGGA---AC-GGGAGCT-GCGTCATGA-GATGGCT---GT--GGA-GTTTCAGCT-GT--TATCAGTCTAGATTTG---TTTC-CG----CTCGT--CATAC-GGTGAG-GT-TG-GAA--GACTC-ACCTTATG---TTAGGACCCT-C---CAGC-AGTGACTGCG---GCTGCT-TTCCCAA--ATTAC\n",
      "-AGATGCA--G---CTCA-GGCG-G--GC-CTCACCA-ACTCGA-TACACGA-G-ATA-GCTCGTGGTGGGCCATTATT-C-C----G-GTCG-TTG--TTGTTCA-TAATTAAG-A-GGCT-CTTCGAT-ACGCTC-AA-CTATGGTA-TTGTCAC-GAGAGAT--ACTTTC--GGTT-CTCA-GGT-CCCCA--GCTCAA-CCTAAAG-GA-AC-CTAAGC-T--G-GTGAGAC-CCG-TCTCGGAA-T-CAGATC-CTG-AG-C-A-T--CTGAAG-AG-GGAGA-TCCGT--AAGTATGCACTCAGATG-G-ACATA--ATAGA-GCTTGTAC-GACCCGA-CGTGCTTAG-GACA-TG-GCTATTCC-TC-GAGC---GATTCAC--GAACGAGAG-C-G-CTC--AACC-AC-AGGGGCC--CCCCTG-CG-TCGGTGATAAGGCGAA---ACA-AGAGCT-GCGTCATGA-GACGGGT---GT--GGA-GTTTCATAT-GT--TCTCAGTGTACACGCG--CATTC--G-A---TCGT--CATAC-GCTGAG-G--TGCGAAC--ACTC-ACCTTATG---TTTCGA-CCT-C--ACAAC-AGTGACTGCG-T--CAGCT-TTCTCAA--ATTAC\n"
     ]
    },
    {
     "name": "stdout",
     "output_type": "stream",
     "text": [
      "-AGA--CAC-GTC-C-CA-GCCGTG---C-CTCA-CAGACTGGACG-CACTA-G-AAA-GCGCGTGGTAGCCCAATAGT-C-C----G-GTCG-TTG-AT-CTT-ACTAGTTAAG-T-GGGTCCTT-GATG-TGCTC-AA-CCATGGTA-TAGTCAC-GTGAGAT--ACTTTCA--GTG-CTCA-GGT-CTGCAT-CCTC-A-CCTCAGG-GA-ACG-GAAGC-TAAG-G-G-GAC-CGG-AGTCCGAA-T-TGGAGC-C-GAAG-G-A-T--CAGACG--GAGGCGA-TCC-T-GAAGTTTGCACTCCGACG-G-AGTTA--ATAGA-GCTTGTAC-GCCCCGA-CGTGCCTAG-GCCA-TG-TCGAATCC--CAGGGCT---ATTCTC--TAACGGGAG-C-G-CTC--ACCC-ACAACG-GCC--TCTATG-AGC-CGGTGATAAGGGGAA---ACA-AAAG-TGGCGTTATGA-GACGAGT---GT--GGA-GTTGCAGAT-GTA-AA-CAGCGTACCCCCG--GATTC--GAA----C-T-CCCGAC-GCTG-GTA--TGCG-AC-GACTC-A-CTT-GGC-TTTTTGA-ACT-C-GCCAT--AGGGAAAACGTT---AG-TGTGATCAA--ATTCC\n",
      "-AGA--TACT-TC-CT-A-TCCGCG---A-CACA-CAGACTGGGCG-CACCA-G-GAA-GCGCGTGGTAGACCAAAAGT-C-C----G-GTCG-TTGT-T-CTT-ACTACTTAAG-A-GGGGCATTA-ATGC-GCT--AACCCATGGTA-TTGACAC-GTGAGCTGC-C-TTCA--GAG-CTCAC-GT-CTGCAT-CCTCT--CCTCAGA-TA-A-GTGAAGC-TAAG-G-G-CTC-CGG-AG-GCAAATT-TAGAGC-C-GAAT-G-ATT--C-TACG--AAGGCGA-TCC-T-GAAGTTTGCAGTAGGTTG-G-AGTTACG--AGG-GCTGGAAC-GCCCCCA-GGTGCCTAG-G-CAGTG-TTGAAACC--GGGGGGT---ATTC-CG-TCACAGGAG-CGG--TC--ACCC-CCAAGG-GCC-A-CTATG-AGC-CGGTGATCA-GGGAA--GTCA-AAAG-TGACGAAATGA-GACAAGT---GT--GTAT-TTGCAGAT-ATA-AA-CAGCGTACGCCCG--TATTC--GAA----A-T-TCAGAC-TCTG-GTC--TACG-AC-G-CCCGA-CTT-AGC-CTTTTGA-ACT-CA-CCAT--AGTGAAAAC-TTA--AA-TATGATCAA--AGTCC\n",
      "-A-AG-TACTG-C-CT-A-T-CG-GA-CA-CACA-CAGAGTCGTCG-CACCA-G-CAA-CCGCGTGGTTGA-CAAAAG--CACG---G-GAAGA-TGT-T-CGT-ACTCCTGAAGAA--GGGCATTA-ATGC-ACT--ATCGCAGGGTA-TTGACAC-GTGAGCT-C-CGTTCA--AAC-CTTAC-GT-GAGCAT-CTTCTA--CTCTGA-TA-C-GTGAAGC-TAAG-G-A-CTC-CGG-AG-GCTAATT-TACAGC-C-TCAT-G-ATTA-C-TA-G--ACGGC-AGTGC-TGGCA-TTTGCAGTCTG-TGAG-AGTTACGC-TGC-CCTGG-ACAG-CGTAACG-TACCGAG-G-CACTGAAGGA-GCCTTGA--GGT---ACTC-CT-TCACAGGAGT-GG--GCA-ACCC--CAAGG-GCC-A-CTATG-GGC-CGGTGATGA-GGGAATTG-GA-AAAT-TCA-GAACCGA-AACAATT---GT--CTAT-TTGCAGAT-ATA-AAT-AGCGTATTCCCG--TATGC--GAA----A-T-ACTGAC-TATG-CTC--TACG-AC-G-GCAGA-TTT-ATCAG-TTGGA-ACT-CAGTC-TA-AAT-ATAAC-TTA--TA-GATAATCAAT-A-TAC\n",
      "C--AG-TATTGCCTCT-AGT--G-TAGC--C--A-CAGAGGCGTGG-CATTA-G-GAA-CCGCGTCTTTTA-CAAAAG--CACG---G-GTTGA-TGT-T-CCT-ATTGCTGAACAA-CGGG-ATCA-AGGC-ACT--ACCGAAGGATA-TTTACAC-GT--TCT-CTC-TGCACCAAC-TTTTCTTTC-ATC-T-CTTCTA-G-TCTGA-TA-C-ATGATTC-TGAG-G-A-CTC-CGG-AG-GCCAGTT-CAGAGCT--TCCT-G-ATGA-C-TT-GC--CGGC-GGTGC-TTGCA-TACCCAGTCAG-TGAG-AGTTAC-CTTGG-CCTGG-ACAA-CGTCGCG-AACCG-GAA-CACAGCA-GAGGCCTTGA--GCT---AGAC-TT-TCACAGGA-TAGG--GCA-ACCC--CGTGG-GCC-ACCG-TT-GGCAAG-TGATCA-GACAATTG-GA-ACTT-TCA-CAAACGA-GTGAATT---GT--CAATC-TGCACAT-ATA-AATC-GCGTAAT-CAG-AAAT-C-ATAA----A-T-ACTGAC-TATG-TTC--GACGT-C-G-GCAGA-TTT-ATCAG-TT-GA-AATACAGCC-CA-CAG-CTAAC--TAG-TA-GAT-ATTAATGT-TCC\n",
      "CT--G-TATAGCCTCTCA-T--G-TGGC--C-T--CAGTGGCG-GGACAGTACGTGCA---GCGTCCCTTA-C-AAA---CACG-TCG-G-T-ACTTT-TCCCT-ATGGCTGTACAA-CAGC-ATCAGAGCC-A-G--AACGAAGGACA-TTGACACAA---TCT-CTC-AGCACCAGC-TTTGGTGTC-ATC-TAG-GCT--GCTCTGT-TA-C-CTCATTC-TTAG-G----TCTAGGAAG-GCCTGTTAC-GAACT--TCCT-T-CGGA-C----GCGGAGGC-GATGC-TTCCA-TAATTAGTCGG-TAAG-AATTGC-ATCGG-CGTGG-ACAA-CAACGCG-AACAG-GAA-CACAGTA-GCGGACTGGATC-CT--G-G-C-TT-TCAGAGGA-CAGG--G-ATACCC--CGTGG-GTC-ACCGCA--GGC-AGTTGATCA-GAGGCTGG-GAC-CTC-CCA-TAAACCA-G-G--TTGCAGT--AAATC-T-C-CAT-ATACAAACTGTGTAAT-CAG--GCG-CGA-AA---GG-T-ACTGAC-TATT-TTC--GGC-TGCAG-G-AGA-TTT-AGCAGA-A-GA-AAAACAACC-AA-CAT-CTAAG--TAGTT--GTT-TTTGTTGT-TCC\n",
      "-T-CG-GATAGCCTATC--T-CGCT--C--C-TC-CAGTCGCT-GGATAGTATGTG-A-C-GCCTTCCTTC-C-AAA---AACGAT---G-TGA-TTTCTGCCT-ATGCCTGTAGAA-CAGC-ATCAGAACCG--G--TACGAAGGACACTT-ACATAA---TCT-C-CTAGCTCAAGA-TTTAGTG-CGATC--AGTTTT--GCCCAGA-AA-C-CTCA-TCTTTCG-G-A--GC-AGGAAG-TCCTG-TCCAGAA-TA-TCGA-T-CGTA-C----CCGGAGGT-GGTGC-TTCCG-TCATTAGTCAG-TAAG-AAAAAC-ATCCA-CGTTG-CCCT-CAACTCGCAA-AG-GAA-CACCTTA-ACGGATTGGATCT-T-GGCGCC-CT-T-AGA--A-C-GG-AG-CT-CCCA-CTTGGCG-C-ACCGGAG-GGC--GTCGTTCC-GA-TCAGGTTACGC-G-CC----GACCAGG-GACTCGCAGT--A-GTCAA-C-CAT-ATTGACGTTGGGTAAT-CTGT-G-G-TGA-AACCCGG-TGACT--CGTA---T-C--GGG-TCCAG-G-AGA-TTT-AACAGACA--A-ATTACATGT-TA-GAT-CTAAC--TAGTTC-CT--TCGGTTGT-TCC\n",
      "-T-CG-GATAGCC--TC--G-GGATC-C--CTTC-CAGTCATT-AGTTCGAATCAG-A-C-GCGGTAATTC-C-CGT---AGGGAT---G-GGG-CCTGTACTT-ATGCCTGTAGAA-AAGC-ATCAAAACCGA-C--T-CGTGGGACACTT-A-GTAAT--TCT-C-GTATATTAAGA-TTTAACG-CGATC--CGTACT--GCCGACA-AA-C-CCCG-TGTTGCG-G-A--AC-TCGAAG-TTGTG-TCCACAT-TA-CCGA-T-CTTAGC-TT-CC---GGC-GGTGC-ATACG-TTATTAGTCCG-TAGG-CAACAC-ATGCA-CGGTG-CACT-CTACTCGGAA-AG-GTC-CTCCTTA-CCGGATTGGAT-TATAGGTG-C-CT-T-A-A--ACC-GG-AG-CG-CCCAGCCT-GCT-T-AATGCAG-GGC--GTATTTCC-AA-CCAGGTGCCGC-G-CC----GGGCAGG-GA-ACG--GTAAACGTCCT-C-TAT-ATTGGCGTTGGG--GT-GGGTGGAG-TTA-AATCCGG-TTACC--CGTT---TCC--GGT-TCC-G-G-TGA-TTT-GGGAGTCG--A-ATTGCATGT-CA-GAT-CTAAC--AAGTT--CTG-ACGGTTGT-TCC\n"
     ]
    },
    {
     "data": {
      "text/plain": [
       "10-element Vector{Any}:\n",
       " 0.211510075\n",
       " 0.284566949\n",
       " 0.285044531\n",
       " 0.374034991\n",
       " 0.636511294\n",
       " 0.740590928\n",
       " 0.928163685\n",
       " 1.202157868\n",
       " 1.409008206\n",
       " 1.573944072"
      ]
     },
     "execution_count": 86,
     "metadata": {},
     "output_type": "execute_result"
    }
   ],
   "source": [
    "# get ACO scores\n",
    "\n",
    "ACO_times = time_ACO_vs_GA()"
   ]
  },
  {
   "cell_type": "code",
   "execution_count": 91,
   "id": "028aeaf2",
   "metadata": {},
   "outputs": [],
   "source": [
    "# get GA times\n",
    "\n",
    "GA_times = [];\n",
    "\n",
    "f = open(\"GAtimes.txt\")\n",
    "f = readlines(f)\n",
    "\n",
    "for str in f\n",
    "    str = parse(Float64, str)\n",
    "    push!(GA_times, str)\n",
    "end"
   ]
  },
  {
   "cell_type": "code",
   "execution_count": 92,
   "id": "a31664e4",
   "metadata": {},
   "outputs": [
    {
     "data": {
      "text/plain": [
       "10-element Vector{Any}:\n",
       " 0.564\n",
       " 1.117\n",
       " 1.503\n",
       " 2.059\n",
       " 2.49\n",
       " 2.991\n",
       " 3.552\n",
       " 4.272\n",
       " 5.091\n",
       " 5.27"
      ]
     },
     "execution_count": 92,
     "metadata": {},
     "output_type": "execute_result"
    }
   ],
   "source": [
    "GA_times"
   ]
  },
  {
   "cell_type": "code",
   "execution_count": 93,
   "id": "adf7368d",
   "metadata": {},
   "outputs": [
    {
     "data": {
      "text/plain": [
       "plot_time_ACO_vs_GA (generic function with 1 method)"
      ]
     },
     "execution_count": 93,
     "metadata": {},
     "output_type": "execute_result"
    }
   ],
   "source": [
    "function plot_time_ACO_vs_GA()\n",
    "    x = collect(50:50:500)\n",
    "    # different length sequences\n",
    "    plot(x, [ACO_times, GA_times],\n",
    "        title = \"ACO times vs GA times for 10 sequences\", \n",
    "        label = [\"ACO times\" \"GA times\"]\n",
    "    )\n",
    "    xlabel!(\"Length of Sequence\")\n",
    "    ylabel!(\"Times\")\n",
    "    savefig(\"plot_time_ACO_vs_GA.png\")\n",
    "end"
   ]
  },
  {
   "cell_type": "code",
   "execution_count": 94,
   "id": "6a359b5d",
   "metadata": {},
   "outputs": [],
   "source": [
    "plot_time_ACO_vs_GA()"
   ]
  },
  {
   "cell_type": "code",
   "execution_count": null,
   "id": "5f64657f",
   "metadata": {},
   "outputs": [],
   "source": []
  }
 ],
 "metadata": {
  "kernelspec": {
   "display_name": "Julia 1.7.1",
   "language": "julia",
   "name": "julia-1.7"
  },
  "language_info": {
   "file_extension": ".jl",
   "mimetype": "application/julia",
   "name": "julia",
   "version": "1.7.1"
  }
 },
 "nbformat": 4,
 "nbformat_minor": 5
}

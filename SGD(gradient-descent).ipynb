{
 "cells": [
  {
   "cell_type": "code",
   "execution_count": 156,
   "id": "e2897df8",
   "metadata": {},
   "outputs": [],
   "source": [
    "import random\n",
    "import numpy as np"
   ]
  },
  {
   "cell_type": "code",
   "execution_count": 157,
   "id": "5159fe7b",
   "metadata": {},
   "outputs": [],
   "source": [
    "X_train = []\n",
    "\n",
    "for i in range(10):\n",
    "    X_train.append([])\n",
    "    for k in range(1):\n",
    "        s = ''\n",
    "        j = 0\n",
    "        while j < 100:\n",
    "            s += str(random.randint(0,4))\n",
    "            j += 1\n",
    "        X_train[i].append(s)"
   ]
  },
  {
   "cell_type": "code",
   "execution_count": 158,
   "id": "521019d0",
   "metadata": {},
   "outputs": [],
   "source": [
    "X_train = np.matrix(X_train)"
   ]
  },
  {
   "cell_type": "code",
   "execution_count": 159,
   "id": "df625c2e",
   "metadata": {},
   "outputs": [
    {
     "data": {
      "text/plain": [
       "matrix([['0424231202022134124221221342441413021431401024424244344230002033243324402300141114413232130220021224'],\n",
       "        ['3424000011103031231021232432311301023424443143443222330414220341244124432012120124022002140023122211'],\n",
       "        ['2123402100321331104302413422012013210403311033304243422104442211013140300442131112431201033433112102'],\n",
       "        ['4322024023203112320041241010133014331221422042424133400104134304323440000220220423143032421413121321'],\n",
       "        ['1233104221031420033114300041300411401313431200242410422413110334313014234411114302024230132333444024'],\n",
       "        ['4443022401102011134403330421112444330112043422333401113020021434320242223230443010022421224302243403'],\n",
       "        ['0201431313024401022130410212142000413021114132130014131212100423340122421201211444213144422232311300'],\n",
       "        ['2441103102231020334331024213141301011422001212421023321004323224403421331033013021004123031223231011'],\n",
       "        ['0242222124331033302244412201333224034004034232420224010004120033430401133124422043111111134323042411'],\n",
       "        ['4444343242301411333131443034023112340010223143443141431201410434333444322413423120434110210322014403']],\n",
       "       dtype='<U100')"
      ]
     },
     "execution_count": 159,
     "metadata": {},
     "output_type": "execute_result"
    }
   ],
   "source": [
    "X_train"
   ]
  },
  {
   "cell_type": "code",
   "execution_count": 160,
   "id": "8e46f845",
   "metadata": {},
   "outputs": [],
   "source": [
    "y_train = []\n",
    "\n",
    "with open(\"GAscores.txt\", 'r') as reader:\n",
    "    for text in reader:\n",
    "        text = text.replace('\\n', '')\n",
    "        text = text.upper()\n",
    "        y_train.append(text)\n",
    "        k += 1"
   ]
  },
  {
   "cell_type": "code",
   "execution_count": 161,
   "id": "6f118658",
   "metadata": {
    "scrolled": true
   },
   "outputs": [
    {
     "data": {
      "text/plain": [
       "['1326.0',\n",
       " '2457.0',\n",
       " '3599.0',\n",
       " '4736.0',\n",
       " '5877.0',\n",
       " '7016.0',\n",
       " '8158.0',\n",
       " '9295.0',\n",
       " '10437.0',\n",
       " '11574.0']"
      ]
     },
     "execution_count": 161,
     "metadata": {},
     "output_type": "execute_result"
    }
   ],
   "source": [
    "y_train"
   ]
  },
  {
   "cell_type": "code",
   "execution_count": 164,
   "id": "a8c163bc",
   "metadata": {
    "scrolled": true
   },
   "outputs": [
    {
     "name": "stdout",
     "output_type": "stream",
     "text": [
      "['11574.0' '11574.0' '11574.0' '11574.0' '11574.0' '11574.0' '11574.0'\n",
      " '11574.0' '11574.0' '11574.0']\n"
     ]
    },
    {
     "name": "stderr",
     "output_type": "stream",
     "text": [
      "/Library/Frameworks/Python.framework/Versions/3.7/lib/python3.7/site-packages/sklearn/utils/validation.py:598: FutureWarning: np.matrix usage is deprecated in 1.0 and will raise a TypeError in 1.2. Please convert to a numpy array with np.asarray. For more information see: https://numpy.org/doc/stable/reference/generated/numpy.matrix.html\n",
      "  FutureWarning,\n",
      "/Library/Frameworks/Python.framework/Versions/3.7/lib/python3.7/site-packages/sklearn/utils/validation.py:598: FutureWarning: np.matrix usage is deprecated in 1.0 and will raise a TypeError in 1.2. Please convert to a numpy array with np.asarray. For more information see: https://numpy.org/doc/stable/reference/generated/numpy.matrix.html\n",
      "  FutureWarning,\n",
      "/Library/Frameworks/Python.framework/Versions/3.7/lib/python3.7/site-packages/sklearn/base.py:566: FutureWarning: Arrays of bytes/strings is being converted to decimal numbers if dtype='numeric'. This behavior is deprecated in 0.24 and will be removed in 1.1 (renaming of 0.26). Please convert your data to numeric values explicitly instead.\n",
      "  X = check_array(X, **check_params)\n"
     ]
    }
   ],
   "source": [
    "from sklearn.linear_model import SGDClassifier\n",
    "from sklearn.metrics import confusion_matrix\n",
    "from sklearn.metrics import classification_report\n",
    "\n",
    "#SGD\n",
    "clf=SGDClassifier(alpha=0.0001).fit(X_train.reshape(-1, 1),y_train)\n",
    "y_SGD_pred=clf.predict(X_train.reshape(-1, 1))\n",
    "print(y_SGD_pred)\n",
    "file_handle = open('SGDresult.txt', mode='w')\n",
    "for i in range(10):\n",
    "    file_handle.write(y_SGD_pred[i] + '\\n')"
   ]
  },
  {
   "cell_type": "code",
   "execution_count": null,
   "id": "8bdd6ff7",
   "metadata": {},
   "outputs": [],
   "source": []
  }
 ],
 "metadata": {
  "kernelspec": {
   "display_name": "Python 3 (ipykernel)",
   "language": "python",
   "name": "python3"
  },
  "language_info": {
   "codemirror_mode": {
    "name": "ipython",
    "version": 3
   },
   "file_extension": ".py",
   "mimetype": "text/x-python",
   "name": "python",
   "nbconvert_exporter": "python",
   "pygments_lexer": "ipython3",
   "version": "3.7.2"
  }
 },
 "nbformat": 4,
 "nbformat_minor": 5
}
